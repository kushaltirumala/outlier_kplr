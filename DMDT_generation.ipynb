{
 "cells": [
  {
   "cell_type": "code",
   "execution_count": 1,
   "metadata": {
    "collapsed": true
   },
   "outputs": [],
   "source": [
    "import numpy as np\n",
    "import matplotlib.pyplot as plt\n",
    "import umap"
   ]
  },
  {
   "cell_type": "code",
   "execution_count": 2,
   "metadata": {
    "collapsed": true
   },
   "outputs": [],
   "source": [
    "raw_data = np.load(\"KeplerSampleFullQ.npy\")\n",
    "def dmdtim(mjd,mag,ldmints,ldtints):\n",
    "    dmdt=np.zeros(shape=(ldmints,ldtints))\n",
    "    maxval = 255\n",
    "    maxpts = len(mjd)*(len(mjd)-1)/2\n",
    "    dmjd = []\n",
    "    dmag = []\n",
    "\n",
    "    for i in range(len(mjd)):\n",
    "        for j in range(i+1,len(mjd)):\n",
    "            dmjd.append(mjd[j]-mjd[i])\n",
    "            dmag.append(mag[j]-mag[i])\n",
    "\n",
    "    (sdmjd,sdmag) = zip(*sorted(zip(dmjd,dmag)))\n",
    "\n",
    "    minmjdbin = 0\n",
    "    for i in range(len(sdmjd)):\n",
    "        mjdbin = minmjdbin\n",
    "        for k in range(minmjdbin,ldtints):\n",
    "            if sdmjd[i] > dtints[k]:\n",
    "                mjdbin = k\n",
    "        minmjdbin = mjdbin\n",
    "        magbin = 0\n",
    "        for k in range(ldmints):\n",
    "            if sdmag[i] > dmints[k]:\n",
    "                magbin = k\n",
    "        dmdt[magbin,mjdbin] += 1\n",
    "\n",
    "    return (maxval*dmdt/maxpts), dmjd, dmag"
   ]
  },
  {
   "cell_type": "code",
   "execution_count": 3,
   "metadata": {},
   "outputs": [
    {
     "data": {
      "text/plain": [
       "(2500, 3)"
      ]
     },
     "execution_count": 3,
     "metadata": {},
     "output_type": "execute_result"
    }
   ],
   "source": [
    "raw_data.shape"
   ]
  },
  {
   "cell_type": "code",
   "execution_count": 4,
   "metadata": {},
   "outputs": [
    {
     "data": {
      "text/plain": [
       "(3,)"
      ]
     },
     "execution_count": 4,
     "metadata": {},
     "output_type": "execute_result"
    }
   ],
   "source": [
    "raw_data[0].shape"
   ]
  },
  {
   "cell_type": "code",
   "execution_count": 5,
   "metadata": {
    "collapsed": true
   },
   "outputs": [],
   "source": [
    "# dmints = [-2,-1,-1.5,-1,-0.5,-0.25,-0.2,-0.15,-0.10, -0.07, -0.05, -0.03, -0.01, -0.05, 0, 0.05, 0.01, 0.03, 0.05, 0.07, 0.10, 0.15, 0.2, 0.25, 0.5, 1, 1.5, 2]\n",
    "\n",
    "\n",
    "dmints = [-1, -0.7, -0.5, -0.35, -0.3, -0.25, -0.2, -0.15, -0.1, -0.05, -0.01, -0.005, -0.002, -0.001, 0, 0.001,  0.002, 0.005, 0.01, 0.05, 0.1, 0.15, 0.2, 0.25, 0.3, 0.35, 0.5, 1]\n",
    "\n",
    "\n",
    "\n",
    "\n",
    "\n",
    "dtints = [1.0/1000, 1.0/500,2.0/500,1.0/145,2.0/145,3.0/145, 7.0/145,10.0/145, 20.0/145, 25.0/145, 30.0/145, 40.0/145,50.0/145,60.0/145, 70.0/145, 80.0/145, 90.0/145, 100.0/145, 120.0/145, 130.0/145, 140.0/145, 1.0, 1,25, 1.5, 2, 2.5,3.0]\n",
    "\n",
    "\n",
    "\n",
    "\n",
    "\n",
    "\n"
   ]
  },
  {
   "cell_type": "code",
   "execution_count": 6,
   "metadata": {},
   "outputs": [
    {
     "name": "stdout",
     "output_type": "stream",
     "text": [
      "28\n",
      "28\n"
     ]
    }
   ],
   "source": [
    "print len(dmints)\n",
    "print len(dtints)"
   ]
  },
  {
   "cell_type": "code",
   "execution_count": 7,
   "metadata": {
    "collapsed": true
   },
   "outputs": [],
   "source": [
    "normalized_x_flux = []\n",
    "normalized_y_flux = []\n",
    "for i, _ in enumerate(raw_data):\n",
    "    if len(raw_data[i][1]) == 3534:\n",
    "        normalized_x_flux.append(raw_data[i][0])\n",
    "        normalized_y_flux.append(raw_data[i][1])\n",
    "    \n",
    "normalized_x_flux = np.array(normalized_x_flux)\n",
    "normalized_y_flux = np.array(normalized_y_flux)"
   ]
  },
  {
   "cell_type": "code",
   "execution_count": 8,
   "metadata": {
    "collapsed": true
   },
   "outputs": [],
   "source": [
    "first_x_points = normalized_x_flux[:, :150]\n",
    "first_y_points = normalized_y_flux[:, :150]"
   ]
  },
  {
   "cell_type": "code",
   "execution_count": 9,
   "metadata": {
    "collapsed": true
   },
   "outputs": [],
   "source": [
    "import random\n",
    "start = random.randint(1, len(normalized_x_flux[0])-250)\n",
    "random_x_points = normalized_x_flux[:, start: start+250]\n",
    "random_y_points = normalized_y_flux[:, start: start+250]"
   ]
  },
  {
   "cell_type": "code",
   "execution_count": 10,
   "metadata": {
    "collapsed": true
   },
   "outputs": [],
   "source": [
    "test = dmdtim(first_x_points[0], first_y_points[0], 28, 28)"
   ]
  },
  {
   "cell_type": "code",
   "execution_count": 12,
   "metadata": {},
   "outputs": [
    {
     "data": {
      "text/plain": [
       "(28, 28)"
      ]
     },
     "execution_count": 12,
     "metadata": {},
     "output_type": "execute_result"
    }
   ],
   "source": [
    "x,y,z = test\n",
    "x.shape"
   ]
  },
  {
   "cell_type": "code",
   "execution_count": 13,
   "metadata": {},
   "outputs": [
    {
     "name": "stdout",
     "output_type": "stream",
     "text": [
      "0.02043268916895613\n",
      "-0.0008932352\n",
      "3.085354306764202\n",
      "0.0005532503\n"
     ]
    }
   ],
   "source": [
    "print np.min(y)\n",
    "print np.min(z)\n",
    "print np.max(y)\n",
    "print np.max(z)"
   ]
  },
  {
   "cell_type": "code",
   "execution_count": 14,
   "metadata": {},
   "outputs": [
    {
     "data": {
      "image/png": "[encoded data removed]",
      "text/plain": [
       "<matplotlib.figure.Figure at 0x1a1ddb5d50>"
      ]
     },
     "metadata": {},
     "output_type": "display_data"
    }
   ],
   "source": [
    "plt.imshow(x)\n",
    "plt.show()"
   ]
  },
  {
   "cell_type": "code",
   "execution_count": null,
   "metadata": {},
   "outputs": [
    {
     "name": "stdout",
     "output_type": "stream",
     "text": [
      "ON ITERATION 0\n",
      "ON ITERATION 50\n",
      "ON ITERATION 100\n",
      "ON ITERATION 150\n",
      "ON ITERATION 200\n",
      "ON ITERATION 250\n",
      "ON ITERATION 300\n",
      "ON ITERATION 350\n",
      "ON ITERATION 400\n"
     ]
    }
   ],
   "source": [
    "first_obj = []\n",
    "for i in range(500):\n",
    "    if i % 50 == 0:\n",
    "        print \"ON ITERATION \" + str(i)\n",
    "    temp, y, z = dmdtim(first_x_points[i], first_y_points[i], 28, 28)\n",
    "    first_obj.append(temp)\n",
    "    np.save(\"first_full_3/first_\" + str(i), temp)\n",
    "first_obj = np.array(first_obj)\n",
    "first_obj.shape"
   ]
  },
  {
   "cell_type": "code",
   "execution_count": null,
   "metadata": {},
   "outputs": [],
   "source": [
    "dmdt_ex = np.load(\"first_full_3/first_99.npy\")\n",
    "plt.imshow(dmdt_ex)\n",
    "plt.show()"
   ]
  },
  {
   "cell_type": "code",
   "execution_count": null,
   "metadata": {},
   "outputs": [],
   "source": [
    "dmdt_ex.transpose().shape"
   ]
  },
  {
   "cell_type": "code",
   "execution_count": null,
   "metadata": {},
   "outputs": [],
   "source": [
    "plt.imshow(dmdt_ex.transpose())\n",
    "plt.show()"
   ]
  },
  {
   "cell_type": "code",
   "execution_count": 75,
   "metadata": {
    "collapsed": true
   },
   "outputs": [],
   "source": [
    "# finding better dm bounds\n",
    "start = random.randint(1, len(normalized_x_flux[0])-400)\n",
    "num = random.randint(1, len(normalized_x_flux)-100)\n",
    "random_x_points = normalized_x_flux[num: num+100, start: start+400]\n",
    "random_y_points = normalized_y_flux[num: num+100, start: start+400]"
   ]
  },
  {
   "cell_type": "code",
   "execution_count": 76,
   "metadata": {},
   "outputs": [
    {
     "data": {
      "text/plain": [
       "(100, 400)"
      ]
     },
     "execution_count": 76,
     "metadata": {},
     "output_type": "execute_result"
    }
   ],
   "source": [
    "random_x_points.shape"
   ]
  },
  {
   "cell_type": "code",
   "execution_count": 77,
   "metadata": {},
   "outputs": [
    {
     "name": "stdout",
     "output_type": "stream",
     "text": [
      "ON ITERATION 0\n",
      "ON ITERATION 50\n"
     ]
    }
   ],
   "source": [
    "diffs_1 = []\n",
    "diffs_2 = []\n",
    "for i in range(len(random_x_points)):\n",
    "    if i % 50 == 0:\n",
    "        print \"ON ITERATION \" + str(i)\n",
    "    temp, y, z = dmdtim(random_x_points[i], random_y_points[i], 28, 28)\n",
    "    diffs_1.append(abs(np.max(y) - np.min(y)))\n",
    "    diffs_2.append(abs(np.max(z) - np.min(z)))"
   ]
  },
  {
   "cell_type": "code",
   "execution_count": 99,
   "metadata": {},
   "outputs": [
    {
     "data": {
      "image/png": "[encoded data removed]",
      "text/plain": [
       "<matplotlib.figure.Figure at 0x1a1e9f1dd0>"
      ]
     },
     "metadata": {},
     "output_type": "display_data"
    }
   ],
   "source": [
    "plt.hist(diffs_1)\n",
    "plt.show()"
   ]
  },
  {
   "cell_type": "code",
   "execution_count": 79,
   "metadata": {},
   "outputs": [
    {
     "data": {
      "image/png": "[encoded data removed]",
      "text/plain": [
       "<matplotlib.figure.Figure at 0x1a141e7450>"
      ]
     },
     "metadata": {},
     "output_type": "display_data"
    }
   ],
   "source": [
    "plt.hist(diffs_2)\n",
    "plt.show()"
   ]
  },
  {
   "cell_type": "code",
   "execution_count": null,
   "metadata": {
    "collapsed": true
   },
   "outputs": [],
   "source": []
  }
 ],
 "metadata": {
  "kernelspec": {
   "display_name": "Python 2",
   "language": "python",
   "name": "python2"
  },
  "language_info": {
   "codemirror_mode": {
    "name": "ipython",
    "version": 2
   },
   "file_extension": ".py",
   "mimetype": "text/x-python",
   "name": "python",
   "nbconvert_exporter": "python",
   "pygments_lexer": "ipython2",
   "version": "2.7.13"
  }
 },
 "nbformat": 4,
 "nbformat_minor": 2
}
