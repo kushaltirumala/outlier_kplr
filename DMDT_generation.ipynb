{
 "cells": [
  {
   "cell_type": "code",
   "execution_count": 362,
   "metadata": {
    "collapsed": true
   },
   "outputs": [],
   "source": [
    "import numpy as np\n",
    "import matplotlib.pyplot as plt\n",
    "import umap"
   ]
  },
  {
   "cell_type": "code",
   "execution_count": 363,
   "metadata": {
    "collapsed": true
   },
   "outputs": [],
   "source": [
    "raw_data = np.load(\"KeplerSampleFullQ.npy\")\n",
    "def dmdtim(mjd,mag,ldmints,ldtints):\n",
    "    dmdt=np.zeros(shape=(ldmints,ldtints))\n",
    "    maxval = 255\n",
    "    maxpts = len(mjd)*(len(mjd)-1)/2\n",
    "    dmjd = []\n",
    "    dmag = []\n",
    "\n",
    "    for i in range(len(mjd)):\n",
    "        for j in range(i+1,len(mjd)):\n",
    "            dmjd.append(mjd[j]-mjd[i])\n",
    "            dmag.append(mag[j]-mag[i])\n",
    "\n",
    "    (sdmjd,sdmag) = zip(*sorted(zip(dmjd,dmag)))\n",
    "\n",
    "    minmjdbin = 0\n",
    "    for i in range(len(sdmjd)):\n",
    "        mjdbin = minmjdbin\n",
    "        for k in range(minmjdbin,ldtints):\n",
    "            if sdmjd[i] > dtints[k]:\n",
    "                mjdbin = k\n",
    "        minmjdbin = mjdbin\n",
    "        magbin = 0\n",
    "        for k in range(ldmints):\n",
    "            if sdmag[i] > dmints[k]:\n",
    "                magbin = k\n",
    "        dmdt[magbin,mjdbin] += 1\n",
    "\n",
    "    return (maxval*dmdt/maxpts), dmjd, dmag"
   ]
  },
  {
   "cell_type": "code",
   "execution_count": 364,
   "metadata": {},
   "outputs": [
    {
     "data": {
      "text/plain": [
       "(2500, 3)"
      ]
     },
     "execution_count": 364,
     "metadata": {},
     "output_type": "execute_result"
    }
   ],
   "source": [
    "raw_data.shape"
   ]
  },
  {
   "cell_type": "code",
   "execution_count": 365,
   "metadata": {},
   "outputs": [
    {
     "data": {
      "text/plain": [
       "(3,)"
      ]
     },
     "execution_count": 365,
     "metadata": {},
     "output_type": "execute_result"
    }
   ],
   "source": [
    "raw_data[0].shape"
   ]
  },
  {
   "cell_type": "code",
   "execution_count": 366,
   "metadata": {},
   "outputs": [],
   "source": [
    "\n",
    "\n",
    "# dmints = [-0.025, -0.02, -0.018, -0.016, -0.015, -0.013, -0.012, -0.01, -0.009, \n",
    "#           -0.008, -0.007, -0.005, -0.003, -0.001, 0, 0.001, 0.003, 0.005, 0.007, 0.008, \n",
    "#           0.009, 0.01, 0.012, 0.013, 0.015, 0.018, 0.02, 0.025]\n",
    "\n",
    "# dmints = [-0.05, -0.03, -0.01, -0.009, -0.007, -0.005, -0.0045, -0.004, -0.0035, -0.003, \n",
    "#           -0.0025, -0.002, -0.0015, -0.001, 0.00, 0.001, 0.0015, 0.002, 0.0025, 0.003, \n",
    "#           0.0035, 0.004, 0.0045, 0.007, 0.009, 0.01, 0.03, 0.05]\n",
    "\n",
    "# dmints = [-0.01, -0.009, -0.008, -0.007, -0.006, -0.005, -0.004, -0.003, -0.002, -0.0015, -0.0013, -0.001, \n",
    "#           -0.0005, 0, 0.0005, 0.00056, 0.001, 0.0013, 0.0015, 0.002, 0.003, 0.004, 0.005,\n",
    "#           0.006, 0.007, 0.008, 0.009, 0.01]\n",
    "\n",
    "# dmints = [-0.001, -0.0009, -0.0008, -0.0007, -0.0005, -0.0003, -0.0001, -0.00009, -0.00008,\n",
    "#           -0.00007, -0.00006, -0.00005, -0.00003, 0.0, 0.00002, 0.00003, 0.00005, 0.00006, 0.00007, 0.00008, \n",
    "#           0.00009, 0.0001, 0.0003, 0.0005, 0.0007, 0.0008, 0.0009, 0.001]\n",
    "\n",
    "# dmints = [-0.01, -0.009, -0.008, -0.007, -0.006, -0.005, -0.004, -0.003, -0.002, -0.0015, -0.0013, -0.001, \n",
    "#           -0.0005, 0.0, 0.00002, 0.00003, 0.00005, 0.00006, 0.00007, 0.00008, \n",
    "#           0.00009, 0.0001, 0.0003, 0.0005, 0.0007, 0.0008, 0.0009, 0.001]\n",
    "\n",
    "# dmints = [-0.01, -0.009, -0.008, -0.007, -0.006, -0.005, -0.004, -0.001, -0.00075, -0.0005, -0.00003, -0.0001, \n",
    "#           -0.00005, -0.00001, 0.00001, 0.00003, 0.00005, 0.0001, 0.0005, 0.00075, 0.001, 0.004, 0.005,\n",
    "#           0.006, 0.007, 0.008, 0.009, 0.01]\n",
    "\n",
    "# dmints = [-0.01, -0.009, -0.008, -0.007, -0.006, -0.005, -0.004, -0.003, -0.002, -0.0015, -0.0014, -0.0013, -0.0012,\n",
    "#           -0.001, -0.0005, 0, 0.001, 0.0013, 0.0015, 0.002, 0.003, 0.004, 0.005,\n",
    "#           0.006, 0.007, 0.008, 0.009, 0.01]\n",
    "\n",
    "# dmints = [-0.01, -0.009, -0.008, -0.007, -0.006, -0.005, -0.004, -0.003, -0.002, -0.0012, -0.0011,\n",
    "#           -0.001, -0.0005, -0.0005, -0.0004, -0.0003, -0.0002, -0.0001, 0, 0.001, 0.0013, 0.004, 0.005,\n",
    "#           0.006, 0.007, 0.008, 0.009, 0.01]\n",
    "\n",
    "# dmints = [-0.01, -0.006, -0.005, -0.004, -0.003, -0.002, -0.0012, -0.0011,\n",
    "#           -0.001, -0.0005, -0.0005, -0.0004, -0.0003, -0.0002, -0.0001, 0, 0.0001, 0.0002, 0.0003, 0.0004, 0.0005,\n",
    "#           0.001, 0.0012, 0.0013, 0.004, 0.005, 0.006, 0.01]\n",
    "\n",
    "# dmints = [-0.01, -0.006, -0.005, -0.004, -0.0012, -0.001, -0.001, -0.0007, -0.0006, -0.0005, -0.0004, -0.0003, \n",
    "#           -0.0002, -0.00015, -0.0001, -0.00005, 0, 0.00005, 0.0001, 0.0002, 0.0003, 0.001, 0.0012, 0.003, 0.004, \n",
    "#           0.005, 0.006, 0.01]\n",
    "\n",
    "dmints = [-0.01, -0.006, -0.005, -0.004, -0.0012, -0.001, -0.001, -0.0007, -0.0006, -0.0005, -0.0004, -0.0003, \n",
    "          -0.0002, -0.00015, -0.0001, -0.00005, 0, 0.00005, 0.0001, 0.0002, 0.0003, 0.001, 0.0012, 0.003, 0.004, \n",
    "          0.005, 0.006, 0.01]\n",
    "\n",
    "\n",
    "# dtints = [1.0/1000, 1.0/500,2.0/500,1.0/145,2.0/145,3.0/145, 7.0/145,10.0/145, 20.0/145, \n",
    "#           25.0/145, 30.0/145, 40.0/145,50.0/145,60.0/145, 70.0/145, 80.0/145, 90.0/145, \n",
    "#           100.0/145, 120.0/145, 130.0/145, 140.0/145, 1.0, 1,25, 1.5, 2, 2.5,3.0]\n",
    "\n",
    "# dtints = [1.0/145, 20.0/145, 30.0/145, 50.0/145, 60.0/145, 80.0/145, 90.0/145, \n",
    "#           100.0/145, 120.0/145, 135.0/145, 140.0/145, 1.0, 1.05, 1.1, 1.2, 1.25, 1.3, 1.35, 1.4, 1.45, 1.5,\n",
    "#           1.7, 1.75, 2,2.25, 2.3, 2.5,3.0]\n",
    "\n",
    "dtints = [1.0/145, 20.0/145, 30.0/145, 50.0/145, 60.0/145, 80.0/145, 90.0/145, \n",
    "          100.0/145, 120.0/145, 135.0/145, 140.0/145, 1.0, 1.05, 1.1, 1.2, 1.25, 1.3, 1.35, 1.4, 1.45, 1.5,\n",
    "          1.7, 1.75, 2,2.25, 2.3, 2.5,3.0]\n",
    "\n",
    "\n",
    "\n",
    "\n"
   ]
  },
  {
   "cell_type": "code",
   "execution_count": 367,
   "metadata": {},
   "outputs": [
    {
     "name": "stdout",
     "output_type": "stream",
     "text": [
      "28\n",
      "28\n"
     ]
    }
   ],
   "source": [
    "print len(dmints)\n",
    "print len(dtints)"
   ]
  },
  {
   "cell_type": "code",
   "execution_count": 368,
   "metadata": {},
   "outputs": [],
   "source": [
    "normalized_x_flux = []\n",
    "normalized_y_flux = []\n",
    "for i, _ in enumerate(raw_data):\n",
    "    if len(raw_data[i][1]) == 3534:\n",
    "        normalized_x_flux.append(raw_data[i][0])\n",
    "        normalized_y_flux.append(raw_data[i][1])\n",
    "    \n",
    "normalized_x_flux = np.array(normalized_x_flux)\n",
    "normalized_y_flux = np.array(normalized_y_flux)"
   ]
  },
  {
   "cell_type": "code",
   "execution_count": 369,
   "metadata": {
    "collapsed": true
   },
   "outputs": [],
   "source": [
    "first_x_points = normalized_x_flux[:, :150]\n",
    "first_y_points = normalized_y_flux[:, :150]"
   ]
  },
  {
   "cell_type": "code",
   "execution_count": 370,
   "metadata": {
    "collapsed": true
   },
   "outputs": [],
   "source": [
    "import random\n",
    "start = random.randint(1, len(normalized_x_flux[0])-250)\n",
    "random_x_points = normalized_x_flux[:, start: start+250]\n",
    "random_y_points = normalized_y_flux[:, start: start+250]"
   ]
  },
  {
   "cell_type": "code",
   "execution_count": 371,
   "metadata": {
    "collapsed": true
   },
   "outputs": [],
   "source": [
    "test = dmdtim(first_x_points[0], first_y_points[0], 28, 28)"
   ]
  },
  {
   "cell_type": "code",
   "execution_count": 372,
   "metadata": {},
   "outputs": [
    {
     "data": {
      "text/plain": [
       "(28, 28)"
      ]
     },
     "execution_count": 372,
     "metadata": {},
     "output_type": "execute_result"
    }
   ],
   "source": [
    "x,y,z = test\n",
    "x.shape"
   ]
  },
  {
   "cell_type": "code",
   "execution_count": 373,
   "metadata": {},
   "outputs": [
    {
     "name": "stdout",
     "output_type": "stream",
     "text": [
      "0.02043268916895613\n",
      "-0.0008932352\n",
      "3.085354306764202\n",
      "0.0005532503\n"
     ]
    }
   ],
   "source": [
    "print np.min(y)\n",
    "print np.min(z)\n",
    "print np.max(y)\n",
    "print np.max(z)"
   ]
  },
  {
   "cell_type": "code",
   "execution_count": 374,
   "metadata": {},
   "outputs": [
    {
     "data": {
      "image/png": "[encoded data removed]",
      "text/plain": [
       "<matplotlib.figure.Figure at 0x1a10642750>"
      ]
     },
     "metadata": {},
     "output_type": "display_data"
    }
   ],
   "source": [
    "plt.imshow(x)\n",
    "plt.show()"
   ]
  },
  {
   "cell_type": "code",
   "execution_count": 377,
   "metadata": {},
   "outputs": [
    {
     "name": "stdout",
     "output_type": "stream",
     "text": [
      "ON ITERATION 0\n",
      "ON ITERATION 50\n",
      "ON ITERATION 100\n",
      "ON ITERATION 150\n",
      "ON ITERATION 200\n",
      "ON ITERATION 250\n",
      "ON ITERATION 300\n",
      "ON ITERATION 350\n",
      "ON ITERATION 400\n",
      "ON ITERATION 450\n"
     ]
    },
    {
     "data": {
      "text/plain": [
       "(500, 28, 28)"
      ]
     },
     "execution_count": 377,
     "metadata": {},
     "output_type": "execute_result"
    }
   ],
   "source": [
    "first_obj = []\n",
    "for i in range(500):\n",
    "    if i % 50 == 0:\n",
    "        print \"ON ITERATION \" + str(i)\n",
    "    temp, y, z = dmdtim(first_x_points[i], first_y_points[i], 28, 28)\n",
    "    first_obj.append(temp)\n",
    "    np.save(\"first_full_working/first_\" + str(i), temp)\n",
    "first_obj = np.array(first_obj)\n",
    "first_obj.shape"
   ]
  },
  {
   "cell_type": "code",
   "execution_count": 378,
   "metadata": {
    "collapsed": true
   },
   "outputs": [],
   "source": [
    "import umap\n",
    "import sklearn"
   ]
  },
  {
   "cell_type": "code",
   "execution_count": 379,
   "metadata": {
    "collapsed": true
   },
   "outputs": [],
   "source": [
    "tt = first_obj.reshape(500, 784)"
   ]
  },
  {
   "cell_type": "code",
   "execution_count": 380,
   "metadata": {
    "collapsed": true
   },
   "outputs": [],
   "source": [
    "from sklearn.manifold import TSNE\n",
    "x_embedded_tsne_first = TSNE(n_components=2).fit_transform(tt)"
   ]
  },
  {
   "cell_type": "code",
   "execution_count": 381,
   "metadata": {
    "collapsed": true
   },
   "outputs": [],
   "source": [
    "x_embedded_umap_first = umap.UMAP().fit_transform(tt)"
   ]
  },
  {
   "cell_type": "code",
   "execution_count": 382,
   "metadata": {},
   "outputs": [
    {
     "data": {
      "image/png": "[encoded data removed]",
      "text/plain": [
       "<matplotlib.figure.Figure at 0x1a27218050>"
      ]
     },
     "metadata": {},
     "output_type": "display_data"
    }
   ],
   "source": [
    "plt.scatter(x_embedded_tsne_first[:, 0], x_embedded_tsne_first[:, 1])\n",
    "plt.show()"
   ]
  },
  {
   "cell_type": "code",
   "execution_count": 383,
   "metadata": {},
   "outputs": [
    {
     "data": {
      "image/png": "[encoded data removed]",
      "text/plain": [
       "<matplotlib.figure.Figure at 0x1a1a708a50>"
      ]
     },
     "metadata": {},
     "output_type": "display_data"
    }
   ],
   "source": [
    "plt.scatter(x_embedded_umap_first[:, 0], x_embedded_umap_first[:, 1])\n",
    "plt.show()"
   ]
  },
  {
   "cell_type": "markdown",
   "metadata": {
    "collapsed": true
   },
   "source": [
    "# Finding better dm bounds"
   ]
  },
  {
   "cell_type": "code",
   "execution_count": 21,
   "metadata": {
    "collapsed": true
   },
   "outputs": [],
   "source": [
    "# finding better dm bounds\n",
    "start = random.randint(1, len(normalized_x_flux[0])-400)\n",
    "num = random.randint(1, len(normalized_x_flux)-100)\n",
    "random_x_points = normalized_x_flux[num: num+100, start: start+400]\n",
    "random_y_points = normalized_y_flux[num: num+100, start: start+400]"
   ]
  },
  {
   "cell_type": "code",
   "execution_count": 22,
   "metadata": {},
   "outputs": [
    {
     "data": {
      "text/plain": [
       "(100, 400)"
      ]
     },
     "execution_count": 22,
     "metadata": {},
     "output_type": "execute_result"
    }
   ],
   "source": [
    "random_x_points.shape"
   ]
  },
  {
   "cell_type": "code",
   "execution_count": 23,
   "metadata": {},
   "outputs": [
    {
     "name": "stdout",
     "output_type": "stream",
     "text": [
      "ON ITERATION 0\n",
      "ON ITERATION 50\n"
     ]
    }
   ],
   "source": [
    "diffs_1 = []\n",
    "diffs_2 = []\n",
    "for i in range(len(random_x_points)):\n",
    "    if i % 50 == 0:\n",
    "        print \"ON ITERATION \" + str(i)\n",
    "    temp, y, z = dmdtim(random_x_points[i], random_y_points[i], 28, 28)\n",
    "    diffs_1.append(abs(np.max(y) - np.min(y)))\n",
    "    diffs_2.append(abs(np.max(z) - np.min(z)))"
   ]
  },
  {
   "cell_type": "code",
   "execution_count": 27,
   "metadata": {
    "collapsed": true
   },
   "outputs": [],
   "source": [
    "np.save(\"diffs1.npy\", diffs_1)\n",
    "np.save(\"diffs2.npy\", diffs_2)\n"
   ]
  },
  {
   "cell_type": "code",
   "execution_count": 4,
   "metadata": {
    "collapsed": true
   },
   "outputs": [],
   "source": [
    "diffs_1 = np.load(\"diffs1.npy\")\n",
    "diffs_2 = np.load(\"diffs2.npy\")"
   ]
  },
  {
   "cell_type": "code",
   "execution_count": 36,
   "metadata": {},
   "outputs": [
    {
     "name": "stdout",
     "output_type": "stream",
     "text": [
      "[8.27589127 8.27578935 8.27575546 8.27573524 8.27582351 8.27585148\n",
      " 8.27573843 8.27574509 8.27586943 8.275763   8.27575779 8.27581299\n",
      " 8.27583752 8.27579123 8.27581194 8.27582772 8.27577281 8.27578596\n",
      " 8.27581861 8.27583193 8.27571248 8.27572562 8.2758593  8.27577174\n",
      " 8.27581201 8.27579092 8.27585213 8.27579193 8.27573845 8.27588071\n",
      " 8.27579451 8.27581449 8.27571638 8.27586055 8.27584525 8.27585129\n",
      " 8.27577476 8.27580862 8.27583514 8.27586052 8.27577001 8.2758159\n",
      " 8.27585845 8.27584461 8.27583221 8.27589683 8.27581423 8.2757863\n",
      " 8.27582288 8.27580339 8.27573483 8.27583649 8.27579654 8.27570877\n",
      " 8.27578236 8.27585332 8.27578477 8.27584911 8.27570686 8.2757161\n",
      " 8.27581472 8.27585793 8.27586859 8.27572097 8.27579539 8.27570743\n",
      " 8.27574781 8.2757979  8.27578112 8.27579565 8.27583435 8.27578251\n",
      " 8.27577551 8.27581007 8.27581497 8.27584636 8.27574217 8.27572737\n",
      " 8.27576632 8.27572558 8.27584302 8.27582621 8.27574595 8.27578429\n",
      " 8.27585432 8.27578698 8.27578993 8.2758499  8.27587449 8.27578518\n",
      " 8.27579406 8.27577191 8.27586134 8.27572906 8.2757176  8.27573379\n",
      " 8.27582296 8.27578059 8.27579437 8.27580401]\n"
     ]
    },
    {
     "data": {
      "image/png": "[encoded data removed]",
      "text/plain": [
       "<matplotlib.figure.Figure at 0x1a1a0efa90>"
      ]
     },
     "metadata": {},
     "output_type": "display_data"
    }
   ],
   "source": [
    "print diffs1\n",
    "plt.hist(diffs_1, 30, range=[8.2758,8.2759])\n",
    "plt.show()"
   ]
  },
  {
   "cell_type": "code",
   "execution_count": 139,
   "metadata": {},
   "outputs": [
    {
     "data": {
      "image/png": "[encoded data removed]",
      "text/plain": [
       "<matplotlib.figure.Figure at 0x1a1a7f5990>"
      ]
     },
     "metadata": {},
     "output_type": "display_data"
    }
   ],
   "source": [
    "plt.hist(diffs_2,  100, range=[0, 0.01])\n",
    "plt.show()"
   ]
  },
  {
   "cell_type": "code",
   "execution_count": null,
   "metadata": {
    "collapsed": true
   },
   "outputs": [],
   "source": []
  }
 ],
 "metadata": {
  "kernelspec": {
   "display_name": "Python 2",
   "language": "python",
   "name": "python2"
  },
  "language_info": {
   "codemirror_mode": {
    "name": "ipython",
    "version": 2
   },
   "file_extension": ".py",
   "mimetype": "text/x-python",
   "name": "python",
   "nbconvert_exporter": "python",
   "pygments_lexer": "ipython2",
   "version": "2.7.15"
  }
 },
 "nbformat": 4,
 "nbformat_minor": 2
}
