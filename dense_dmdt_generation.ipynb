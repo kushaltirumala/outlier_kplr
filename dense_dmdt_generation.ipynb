{
 "cells": [
  {
   "cell_type": "code",
   "execution_count": 14,
   "metadata": {},
   "outputs": [],
   "source": [
    "import numpy as np\n",
    "import matplotlib.pyplot as plt\n",
    "from matplotlib.colors import LogNorm\n",
    "import pickle\n",
    "from sklearn.manifold import TSNE\n",
    "import umap\n",
    "# import mplcursors\n",
    "\n",
    "kdata = np.load('KeplerSampleFullQ.npy',encoding='bytes')"
   ]
  },
  {
   "cell_type": "code",
   "execution_count": 15,
   "metadata": {},
   "outputs": [],
   "source": [
    "dmints = [-1.2,-0.3,-0.1,-0.05, -0.02,-0.01, -0.006, -0.005, -0.004, -0.0012, \n",
    "          -0.001, -0.0006, -0.0003, 0,  0.0003, 0.0006, 0.001, 0.0012, 0.003, \n",
    "          0.004, 0.005, 0.006, 0.01, 0.02, 0.05, 0.1, 0.3, 0.6, 1.2]\n",
    "dtints = [-1.0/145, 1.0/47, 2.0/47, 3.0/47, 4.0/47, 6.0/47, 10.0/47, 15.0/47,\n",
    "          20.0/47, 30.0/47, 40.0/47,   1.0,   1.2,  \n",
    "           1.4,  1.5, 1.7,  2, 2.25,  2.5, 3.0, 4, 6 , 9, 15, 20, 30, 45, 60, 90]\n",
    "\n",
    "def pairwisediffs(arrayoned):\n",
    "    x = arrayoned.reshape((1,len(arrayoned)))\n",
    "    xdm = x[:] - np.transpose(x[:])\n",
    "    xd = xdm[np.triu_indices(len(x[0]), k = 1)]\n",
    "    return(xd)\n",
    "def get2dhist(lightcurve):\n",
    "    xd = pairwisediffs(lightcurve[0])\n",
    "    yd = pairwisediffs(lightcurve[1])\n",
    "    H,xe,ye = np.histogram2d(xd,yd,bins=[dtints,dmints],range=None,normed=False)\n",
    "    G = 255*H/np.sum(H)\n",
    "    return G\n",
    "\n",
    "def save_dmdt(n):\n",
    "    fastdmdt = get2dhist([kdata[n][0],kdata[n][1]])\n",
    "    np.save(\"dmdt_points/im_\" + str(n), fastdmdt.T)\n",
    "    return fastdmdt.T"
   ]
  },
  {
   "cell_type": "code",
   "execution_count": 16,
   "metadata": {},
   "outputs": [
    {
     "name": "stdout",
     "output_type": "stream",
     "text": [
      "ON ITERATION 0\n",
      "ON ITERATION 50\n",
      "ON ITERATION 100\n",
      "ON ITERATION 150\n",
      "ON ITERATION 200\n",
      "ON ITERATION 250\n",
      "ON ITERATION 300\n",
      "ON ITERATION 350\n",
      "ON ITERATION 400\n",
      "ON ITERATION 450\n",
      "ON ITERATION 500\n",
      "ON ITERATION 550\n",
      "ON ITERATION 600\n",
      "ON ITERATION 650\n",
      "ON ITERATION 700\n",
      "ON ITERATION 750\n",
      "ON ITERATION 800\n",
      "ON ITERATION 850\n",
      "ON ITERATION 900\n",
      "ON ITERATION 950\n",
      "ON ITERATION 1000\n",
      "ON ITERATION 1050\n",
      "ON ITERATION 1100\n",
      "ON ITERATION 1150\n",
      "ON ITERATION 1200\n",
      "ON ITERATION 1250\n",
      "ON ITERATION 1300\n",
      "ON ITERATION 1350\n",
      "ON ITERATION 1400\n",
      "ON ITERATION 1450\n",
      "ON ITERATION 1500\n",
      "ON ITERATION 1550\n",
      "ON ITERATION 1600\n",
      "ON ITERATION 1650\n",
      "ON ITERATION 1700\n",
      "ON ITERATION 1750\n",
      "ON ITERATION 1800\n",
      "ON ITERATION 1850\n",
      "ON ITERATION 1900\n",
      "ON ITERATION 1950\n",
      "ON ITERATION 2000\n",
      "ON ITERATION 2050\n",
      "ON ITERATION 2100\n",
      "ON ITERATION 2150\n",
      "ON ITERATION 2200\n",
      "ON ITERATION 2250\n",
      "ON ITERATION 2300\n",
      "ON ITERATION 2350\n",
      "ON ITERATION 2400\n",
      "ON ITERATION 2450\n"
     ]
    }
   ],
   "source": [
    "data = []\n",
    "for i, _ in enumerate(kdata):\n",
    "    if i % 50 == 0:\n",
    "        print \"ON ITERATION \" + str(i)\n",
    "    temp = save_dmdt(i)\n",
    "    data.append(temp)\n",
    "    \n",
    "data = np.array(data)\n",
    "np.save(\"FINAL_DATA.npy\", data)"
   ]
  },
  {
   "cell_type": "code",
   "execution_count": 17,
   "metadata": {},
   "outputs": [],
   "source": [
    "temp = np.load(\"FINAL_DATA.npy\")"
   ]
  },
  {
   "cell_type": "code",
   "execution_count": 18,
   "metadata": {},
   "outputs": [
    {
     "data": {
      "text/plain": [
       "(2500, 28, 28)"
      ]
     },
     "execution_count": 18,
     "metadata": {},
     "output_type": "execute_result"
    }
   ],
   "source": [
    "temp.shape"
   ]
  },
  {
   "cell_type": "code",
   "execution_count": 23,
   "metadata": {},
   "outputs": [
    {
     "data": {
      "text/plain": [
       "<matplotlib.colorbar.Colorbar at 0x13e447110>"
      ]
     },
     "execution_count": 23,
     "metadata": {},
     "output_type": "execute_result"
    },
    {
     "data": {
      "image/png": "[encoded data removed]",
      "text/plain": [
       "<Figure size 432x288 with 2 Axes>"
      ]
     },
     "metadata": {
      "needs_background": "light"
     },
     "output_type": "display_data"
    }
   ],
   "source": [
    "plt.imshow(temp[1250],  norm = LogNorm(), origin=\"lower\")\n",
    "plt.colorbar()"
   ]
  },
  {
   "cell_type": "code",
   "execution_count": null,
   "metadata": {},
   "outputs": [],
   "source": []
  }
 ],
 "metadata": {
  "kernelspec": {
   "display_name": "Python 2",
   "language": "python",
   "name": "python2"
  },
  "language_info": {
   "codemirror_mode": {
    "name": "ipython",
    "version": 2
   },
   "file_extension": ".py",
   "mimetype": "text/x-python",
   "name": "python",
   "nbconvert_exporter": "python",
   "pygments_lexer": "ipython2",
   "version": "2.7.16"
  }
 },
 "nbformat": 4,
 "nbformat_minor": 2
}
