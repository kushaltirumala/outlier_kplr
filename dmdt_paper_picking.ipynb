{
 "cells": [
  {
   "cell_type": "code",
   "execution_count": 93,
   "metadata": {},
   "outputs": [],
   "source": [
    "import numpy as np\n",
    "import pandas as pd\n",
    "import matplotlib.pyplot as plt\n",
    "import pandas as pd"
   ]
  },
  {
   "cell_type": "code",
   "execution_count": 118,
   "metadata": {},
   "outputs": [],
   "source": [
    "# load the scores, and original full data\n",
    "full_data = np.load(\"test_images_dense/full_dense_light_curve_points_removed_spikes.npy\")\n",
    "\n",
    "DIR_TITLE = \"test_images_dense/\"\n",
    "tsne_scores = pd.read_csv(DIR_TITLE + \"tsne_outlier_scores_dense.csv\")\n",
    "umap_scores = pd.read_csv(DIR_TITLE + \"umap_outlier_scores_dense.csv\")"
   ]
  },
  {
   "cell_type": "markdown",
   "metadata": {},
   "source": [
    "### TSNE - dense image picking"
   ]
  },
  {
   "cell_type": "code",
   "execution_count": 95,
   "metadata": {},
   "outputs": [
    {
     "data": {
      "text/html": [
       "<div>\n",
       "<style scoped>\n",
       "    .dataframe tbody tr th:only-of-type {\n",
       "        vertical-align: middle;\n",
       "    }\n",
       "\n",
       "    .dataframe tbody tr th {\n",
       "        vertical-align: top;\n",
       "    }\n",
       "\n",
       "    .dataframe thead th {\n",
       "        text-align: right;\n",
       "    }\n",
       "</style>\n",
       "<table border=\"1\" class=\"dataframe\">\n",
       "  <thead>\n",
       "    <tr style=\"text-align: right;\">\n",
       "      <th></th>\n",
       "      <th>Unnamed: 0</th>\n",
       "      <th>tsne_outlier_score</th>\n",
       "      <th>light_curve_index</th>\n",
       "    </tr>\n",
       "  </thead>\n",
       "  <tbody>\n",
       "    <tr>\n",
       "      <td>0</td>\n",
       "      <td>0</td>\n",
       "      <td>-0.014673</td>\n",
       "      <td>0</td>\n",
       "    </tr>\n",
       "    <tr>\n",
       "      <td>1</td>\n",
       "      <td>1</td>\n",
       "      <td>-0.874806</td>\n",
       "      <td>1</td>\n",
       "    </tr>\n",
       "    <tr>\n",
       "      <td>2</td>\n",
       "      <td>2</td>\n",
       "      <td>0.535171</td>\n",
       "      <td>2</td>\n",
       "    </tr>\n",
       "    <tr>\n",
       "      <td>3</td>\n",
       "      <td>3</td>\n",
       "      <td>0.181068</td>\n",
       "      <td>3</td>\n",
       "    </tr>\n",
       "    <tr>\n",
       "      <td>4</td>\n",
       "      <td>4</td>\n",
       "      <td>0.383667</td>\n",
       "      <td>4</td>\n",
       "    </tr>\n",
       "    <tr>\n",
       "      <td>...</td>\n",
       "      <td>...</td>\n",
       "      <td>...</td>\n",
       "      <td>...</td>\n",
       "    </tr>\n",
       "    <tr>\n",
       "      <td>2495</td>\n",
       "      <td>2495</td>\n",
       "      <td>-0.062383</td>\n",
       "      <td>2495</td>\n",
       "    </tr>\n",
       "    <tr>\n",
       "      <td>2496</td>\n",
       "      <td>2496</td>\n",
       "      <td>0.936749</td>\n",
       "      <td>2496</td>\n",
       "    </tr>\n",
       "    <tr>\n",
       "      <td>2497</td>\n",
       "      <td>2497</td>\n",
       "      <td>0.367434</td>\n",
       "      <td>2497</td>\n",
       "    </tr>\n",
       "    <tr>\n",
       "      <td>2498</td>\n",
       "      <td>2498</td>\n",
       "      <td>-0.601156</td>\n",
       "      <td>2498</td>\n",
       "    </tr>\n",
       "    <tr>\n",
       "      <td>2499</td>\n",
       "      <td>2499</td>\n",
       "      <td>0.044500</td>\n",
       "      <td>2499</td>\n",
       "    </tr>\n",
       "  </tbody>\n",
       "</table>\n",
       "<p>2500 rows × 3 columns</p>\n",
       "</div>"
      ],
      "text/plain": [
       "      Unnamed: 0  tsne_outlier_score  light_curve_index\n",
       "0              0           -0.014673                  0\n",
       "1              1           -0.874806                  1\n",
       "2              2            0.535171                  2\n",
       "3              3            0.181068                  3\n",
       "4              4            0.383667                  4\n",
       "...          ...                 ...                ...\n",
       "2495        2495           -0.062383               2495\n",
       "2496        2496            0.936749               2496\n",
       "2497        2497            0.367434               2497\n",
       "2498        2498           -0.601156               2498\n",
       "2499        2499            0.044500               2499\n",
       "\n",
       "[2500 rows x 3 columns]"
      ]
     },
     "execution_count": 95,
     "metadata": {},
     "output_type": "execute_result"
    }
   ],
   "source": [
    "# dense light curve analysis\n",
    "tsne_scores"
   ]
  },
  {
   "cell_type": "code",
   "execution_count": 96,
   "metadata": {},
   "outputs": [
    {
     "data": {
      "text/html": [
       "<div>\n",
       "<style scoped>\n",
       "    .dataframe tbody tr th:only-of-type {\n",
       "        vertical-align: middle;\n",
       "    }\n",
       "\n",
       "    .dataframe tbody tr th {\n",
       "        vertical-align: top;\n",
       "    }\n",
       "\n",
       "    .dataframe thead th {\n",
       "        text-align: right;\n",
       "    }\n",
       "</style>\n",
       "<table border=\"1\" class=\"dataframe\">\n",
       "  <thead>\n",
       "    <tr style=\"text-align: right;\">\n",
       "      <th></th>\n",
       "      <th>Unnamed: 0</th>\n",
       "      <th>tsne_outlier_score</th>\n",
       "      <th>light_curve_index</th>\n",
       "    </tr>\n",
       "  </thead>\n",
       "  <tbody>\n",
       "    <tr>\n",
       "      <td>count</td>\n",
       "      <td>2500.00000</td>\n",
       "      <td>2.500000e+03</td>\n",
       "      <td>2500.00000</td>\n",
       "    </tr>\n",
       "    <tr>\n",
       "      <td>mean</td>\n",
       "      <td>1249.50000</td>\n",
       "      <td>2.862338e-08</td>\n",
       "      <td>1249.50000</td>\n",
       "    </tr>\n",
       "    <tr>\n",
       "      <td>std</td>\n",
       "      <td>721.83216</td>\n",
       "      <td>1.000200e+00</td>\n",
       "      <td>721.83216</td>\n",
       "    </tr>\n",
       "    <tr>\n",
       "      <td>min</td>\n",
       "      <td>0.00000</td>\n",
       "      <td>-1.153109e+00</td>\n",
       "      <td>0.00000</td>\n",
       "    </tr>\n",
       "    <tr>\n",
       "      <td>25%</td>\n",
       "      <td>624.75000</td>\n",
       "      <td>-6.303785e-01</td>\n",
       "      <td>624.75000</td>\n",
       "    </tr>\n",
       "    <tr>\n",
       "      <td>50%</td>\n",
       "      <td>1249.50000</td>\n",
       "      <td>-2.725627e-01</td>\n",
       "      <td>1249.50000</td>\n",
       "    </tr>\n",
       "    <tr>\n",
       "      <td>75%</td>\n",
       "      <td>1874.25000</td>\n",
       "      <td>2.950932e-01</td>\n",
       "      <td>1874.25000</td>\n",
       "    </tr>\n",
       "    <tr>\n",
       "      <td>max</td>\n",
       "      <td>2499.00000</td>\n",
       "      <td>9.024843e+00</td>\n",
       "      <td>2499.00000</td>\n",
       "    </tr>\n",
       "  </tbody>\n",
       "</table>\n",
       "</div>"
      ],
      "text/plain": [
       "       Unnamed: 0  tsne_outlier_score  light_curve_index\n",
       "count  2500.00000        2.500000e+03         2500.00000\n",
       "mean   1249.50000        2.862338e-08         1249.50000\n",
       "std     721.83216        1.000200e+00          721.83216\n",
       "min       0.00000       -1.153109e+00            0.00000\n",
       "25%     624.75000       -6.303785e-01          624.75000\n",
       "50%    1249.50000       -2.725627e-01         1249.50000\n",
       "75%    1874.25000        2.950932e-01         1874.25000\n",
       "max    2499.00000        9.024843e+00         2499.00000"
      ]
     },
     "execution_count": 96,
     "metadata": {},
     "output_type": "execute_result"
    }
   ],
   "source": [
    "tsne_scores.describe()"
   ]
  },
  {
   "cell_type": "code",
   "execution_count": 97,
   "metadata": {},
   "outputs": [
    {
     "data": {
      "text/plain": [
       "(array([1.485e+03, 6.840e+02, 2.070e+02, 7.300e+01, 2.600e+01, 1.400e+01,\n",
       "        5.000e+00, 5.000e+00, 0.000e+00, 1.000e+00]),\n",
       " array([-1.1531092 , -0.13531398,  0.88248124,  1.90027646,  2.91807168,\n",
       "         3.9358669 ,  4.95366212,  5.97145734,  6.98925256,  8.00704778,\n",
       "         9.024843  ]),\n",
       " <a list of 10 Patch objects>)"
      ]
     },
     "execution_count": 97,
     "metadata": {},
     "output_type": "execute_result"
    },
    {
     "data": {
      "image/png": "[encoded data removed]",
      "text/plain": [
       "<Figure size 432x288 with 1 Axes>"
      ]
     },
     "metadata": {
      "needs_background": "light"
     },
     "output_type": "display_data"
    }
   ],
   "source": [
    "plt.hist(tsne_scores[\"tsne_outlier_score\"])"
   ]
  },
  {
   "cell_type": "code",
   "execution_count": 98,
   "metadata": {},
   "outputs": [],
   "source": [
    "bins = [-1, 0, 1, 2, 6]\n"
   ]
  },
  {
   "cell_type": "code",
   "execution_count": 99,
   "metadata": {},
   "outputs": [],
   "source": [
    "lc_indices = []\n",
    "scores = []\n",
    "\n",
    "lc_indices.append(tsne_scores[tsne_scores[\"tsne_outlier_score\"] < bins[0]].iloc[1][\"light_curve_index\"])\n",
    "scores.append(float(tsne_scores[tsne_scores[\"light_curve_index\"] == lc_indices[-1]][\"tsne_outlier_score\"]))\n",
    "\n",
    "for i in range(len(bins) - 1):\n",
    "    temp = tsne_scores[tsne_scores[\"tsne_outlier_score\"] >= bins[i]]\n",
    "    temp = temp[temp[\"tsne_outlier_score\"] <= bins[i+1]]\n",
    "    lc_index = temp.iloc[1][\"light_curve_index\"]\n",
    "    lc_indices.append(lc_index)\n",
    "    scores.append(float(tsne_scores[tsne_scores[\"light_curve_index\"] == lc_index][\"tsne_outlier_score\"]))\n",
    "lc_indices.append(tsne_scores[tsne_scores[\"tsne_outlier_score\"] > bins[len(bins) - 1]].iloc[1][\"light_curve_index\"])\n",
    "scores.append(float(tsne_scores[tsne_scores[\"light_curve_index\"] == lc_indices[-1]][\"tsne_outlier_score\"]))"
   ]
  },
  {
   "cell_type": "code",
   "execution_count": 100,
   "metadata": {},
   "outputs": [
    {
     "name": "stdout",
     "output_type": "stream",
     "text": [
      "[21.0, 1.0, 3.0, 44.0, 45.0, 386.0]\n",
      "[-1.0614431999999998, -0.8748064, 0.18106808, 1.1207725, 2.5927877, 6.841838]\n"
     ]
    }
   ],
   "source": [
    "print(lc_indices)\n",
    "print(scores)"
   ]
  },
  {
   "cell_type": "code",
   "execution_count": 101,
   "metadata": {},
   "outputs": [
    {
     "name": "stdout",
     "output_type": "stream",
     "text": [
      "ON LC 21.0\n",
      "ON LC 1.0\n",
      "ON LC 3.0\n",
      "ON LC 44.0\n",
      "ON LC 45.0\n",
      "ON LC 386.0\n"
     ]
    }
   ],
   "source": [
    "from matplotlib.colors import LogNorm\n",
    "def create_dmdt_plot(lc_indices, dmdt_data, scores, save_title):\n",
    "    f, axarr = plt.subplots(3, 2, figsize=(10,10))\n",
    "    row = 0\n",
    "    for i, lc_index in enumerate(lc_indices):\n",
    "        col = i % 2\n",
    "        if col == 0:\n",
    "            row += 1\n",
    "        \n",
    "        print(\"ON LC \" + str(lc_index))\n",
    "        ar_x = row - 1\n",
    "        ar_y = col\n",
    "        score = \"%.2f\" % scores[i]\n",
    "        title = \"LC: \" + str(int(lc_index)) + \" , score: \" + str(score)\n",
    "        axarr[ar_x, ar_y].set_title(title)\n",
    "        \n",
    "        to_show = dmdt_data[int(lc_index)]\n",
    "        \n",
    "        axarr[ar_x, ar_y].imshow(to_show, norm = LogNorm(), origin=\"lower\")\n",
    "            \n",
    "\n",
    "#     axarr[2,2].set_visible(True)\n",
    "    \n",
    "    plt.tight_layout()\n",
    "    plt.savefig(save_title, dpi=100)\n",
    "    plt.close()\n",
    "        \n",
    "        \n",
    "# outliers = [1980, 1799, 1392, 374, 2319, 1970, 386, 947, 1840]\n",
    "\n",
    "\n",
    "\n",
    "create_dmdt_plot(lc_indices, full_data, scores, \"new_final_images/dmdt_images/tsne_dense.ps\")"
   ]
  },
  {
   "cell_type": "markdown",
   "metadata": {},
   "source": [
    "### UMAP - dense image picking\n"
   ]
  },
  {
   "cell_type": "code",
   "execution_count": 102,
   "metadata": {},
   "outputs": [
    {
     "data": {
      "text/html": [
       "<div>\n",
       "<style scoped>\n",
       "    .dataframe tbody tr th:only-of-type {\n",
       "        vertical-align: middle;\n",
       "    }\n",
       "\n",
       "    .dataframe tbody tr th {\n",
       "        vertical-align: top;\n",
       "    }\n",
       "\n",
       "    .dataframe thead th {\n",
       "        text-align: right;\n",
       "    }\n",
       "</style>\n",
       "<table border=\"1\" class=\"dataframe\">\n",
       "  <thead>\n",
       "    <tr style=\"text-align: right;\">\n",
       "      <th></th>\n",
       "      <th>Unnamed: 0</th>\n",
       "      <th>umap_outlier_score</th>\n",
       "      <th>light_curve_index</th>\n",
       "    </tr>\n",
       "  </thead>\n",
       "  <tbody>\n",
       "    <tr>\n",
       "      <td>count</td>\n",
       "      <td>2500.00000</td>\n",
       "      <td>2.500000e+03</td>\n",
       "      <td>2500.00000</td>\n",
       "    </tr>\n",
       "    <tr>\n",
       "      <td>mean</td>\n",
       "      <td>1249.50000</td>\n",
       "      <td>-8.434783e-08</td>\n",
       "      <td>1249.50000</td>\n",
       "    </tr>\n",
       "    <tr>\n",
       "      <td>std</td>\n",
       "      <td>721.83216</td>\n",
       "      <td>1.000200e+00</td>\n",
       "      <td>721.83216</td>\n",
       "    </tr>\n",
       "    <tr>\n",
       "      <td>min</td>\n",
       "      <td>0.00000</td>\n",
       "      <td>-1.521403e+00</td>\n",
       "      <td>0.00000</td>\n",
       "    </tr>\n",
       "    <tr>\n",
       "      <td>25%</td>\n",
       "      <td>624.75000</td>\n",
       "      <td>-7.133008e-01</td>\n",
       "      <td>624.75000</td>\n",
       "    </tr>\n",
       "    <tr>\n",
       "      <td>50%</td>\n",
       "      <td>1249.50000</td>\n",
       "      <td>-2.196841e-01</td>\n",
       "      <td>1249.50000</td>\n",
       "    </tr>\n",
       "    <tr>\n",
       "      <td>75%</td>\n",
       "      <td>1874.25000</td>\n",
       "      <td>4.775689e-01</td>\n",
       "      <td>1874.25000</td>\n",
       "    </tr>\n",
       "    <tr>\n",
       "      <td>max</td>\n",
       "      <td>2499.00000</td>\n",
       "      <td>7.203085e+00</td>\n",
       "      <td>2499.00000</td>\n",
       "    </tr>\n",
       "  </tbody>\n",
       "</table>\n",
       "</div>"
      ],
      "text/plain": [
       "       Unnamed: 0  umap_outlier_score  light_curve_index\n",
       "count  2500.00000        2.500000e+03         2500.00000\n",
       "mean   1249.50000       -8.434783e-08         1249.50000\n",
       "std     721.83216        1.000200e+00          721.83216\n",
       "min       0.00000       -1.521403e+00            0.00000\n",
       "25%     624.75000       -7.133008e-01          624.75000\n",
       "50%    1249.50000       -2.196841e-01         1249.50000\n",
       "75%    1874.25000        4.775689e-01         1874.25000\n",
       "max    2499.00000        7.203085e+00         2499.00000"
      ]
     },
     "execution_count": 102,
     "metadata": {},
     "output_type": "execute_result"
    }
   ],
   "source": [
    "umap_scores.describe()"
   ]
  },
  {
   "cell_type": "code",
   "execution_count": 103,
   "metadata": {},
   "outputs": [
    {
     "data": {
      "text/plain": [
       "(array([708., 974., 507., 192.,  78.,  23.,  11.,   4.,   2.,   1.]),\n",
       " array([-1.5214034 , -0.64895461,  0.22349418,  1.09594297,  1.96839176,\n",
       "         2.84084055,  3.71328934,  4.58573813,  5.45818692,  6.33063571,\n",
       "         7.2030845 ]),\n",
       " <a list of 10 Patch objects>)"
      ]
     },
     "execution_count": 103,
     "metadata": {},
     "output_type": "execute_result"
    },
    {
     "data": {
      "image/png": "[encoded data removed]",
      "text/plain": [
       "<Figure size 432x288 with 1 Axes>"
      ]
     },
     "metadata": {
      "needs_background": "light"
     },
     "output_type": "display_data"
    }
   ],
   "source": [
    "plt.hist(umap_scores[\"umap_outlier_score\"])"
   ]
  },
  {
   "cell_type": "code",
   "execution_count": 104,
   "metadata": {},
   "outputs": [],
   "source": [
    "bins = [-1, 0, 1, 2, 6]\n",
    "lc_indices = []\n",
    "scores = []\n",
    "\n",
    "lc_indices.append(umap_scores[umap_scores[\"umap_outlier_score\"] < bins[0]].iloc[1][\"light_curve_index\"])\n",
    "scores.append(float(umap_scores[umap_scores[\"light_curve_index\"] == lc_indices[-1]][\"umap_outlier_score\"]))\n",
    "\n",
    "for i in range(len(bins) - 1):\n",
    "    temp = umap_scores[umap_scores[\"umap_outlier_score\"] >= bins[i]]\n",
    "    temp = temp[temp[\"umap_outlier_score\"] <= bins[i+1]]\n",
    "    lc_index = temp.iloc[1][\"light_curve_index\"]\n",
    "    lc_indices.append(lc_index)\n",
    "    scores.append(float(umap_scores[umap_scores[\"light_curve_index\"] == lc_index][\"umap_outlier_score\"]))\n",
    "lc_indices.append(umap_scores[umap_scores[\"umap_outlier_score\"] > bins[len(bins) - 1]].iloc[1][\"light_curve_index\"])\n",
    "scores.append(float(umap_scores[umap_scores[\"light_curve_index\"] == lc_indices[-1]][\"umap_outlier_score\"]))\n",
    "\n"
   ]
  },
  {
   "cell_type": "code",
   "execution_count": 105,
   "metadata": {},
   "outputs": [
    {
     "name": "stdout",
     "output_type": "stream",
     "text": [
      "[24.0, 1.0, 6.0, 15.0, 5.0, 1980.0]\n",
      "[-1.0544671, -0.061502325999999996, 0.8402139999999999, 1.5421798, 2.7002080000000004, 6.0948553]\n"
     ]
    }
   ],
   "source": [
    "print(lc_indices)\n",
    "print(scores)"
   ]
  },
  {
   "cell_type": "code",
   "execution_count": 106,
   "metadata": {},
   "outputs": [
    {
     "name": "stdout",
     "output_type": "stream",
     "text": [
      "ON LC 24.0\n",
      "ON LC 1.0\n",
      "ON LC 6.0\n",
      "ON LC 15.0\n",
      "ON LC 5.0\n",
      "ON LC 1980.0\n"
     ]
    }
   ],
   "source": [
    "create_dmdt_plot(lc_indices, full_data, scores, \"new_final_images/dmdt_images/umap_dense.ps\")"
   ]
  },
  {
   "cell_type": "code",
   "execution_count": 120,
   "metadata": {},
   "outputs": [],
   "source": [
    "## tabbys star\n",
    "TABBY_STAR_INDEX = 1156\n",
    "tabby_tsne_score = tsne_scores[tsne_scores[\"light_curve_index\"] == TABBY_STAR_INDEX][\"tsne_outlier_score\"]\n",
    "plt.imshow(full_data[TABBY_STAR_INDEX], norm=LogNorm(), origin=\"Lower\")\n",
    "\n",
    "title = \"Tabby's Star (Dense)\"\n",
    "plt.title(title)\n",
    "plt.tight_layout()\n",
    "plt.savefig(\"new_final_images/dmdt_images/tabby_dense.ps\", dpi=100)\n",
    "plt.close()"
   ]
  },
  {
   "cell_type": "markdown",
   "metadata": {},
   "source": [
    "### TSNE - sparse image picking"
   ]
  },
  {
   "cell_type": "code",
   "execution_count": 121,
   "metadata": {},
   "outputs": [],
   "source": [
    "# load the scores, and original full data\n",
    "full_data = np.load(\"sparse_light_curve_dmdt_final/full_sparse_light_curve_points_removed_spikes.npy\")\n",
    "\n",
    "DIR_TITLE = \"june_14_images/\"\n",
    "tsne_scores = pd.read_csv(DIR_TITLE + \"tsne_outlier_scores.csv\")\n",
    "umap_scores = pd.read_csv(DIR_TITLE + \"umap_outlier_scores.csv\")"
   ]
  },
  {
   "cell_type": "code",
   "execution_count": 108,
   "metadata": {},
   "outputs": [
    {
     "data": {
      "text/html": [
       "<div>\n",
       "<style scoped>\n",
       "    .dataframe tbody tr th:only-of-type {\n",
       "        vertical-align: middle;\n",
       "    }\n",
       "\n",
       "    .dataframe tbody tr th {\n",
       "        vertical-align: top;\n",
       "    }\n",
       "\n",
       "    .dataframe thead th {\n",
       "        text-align: right;\n",
       "    }\n",
       "</style>\n",
       "<table border=\"1\" class=\"dataframe\">\n",
       "  <thead>\n",
       "    <tr style=\"text-align: right;\">\n",
       "      <th></th>\n",
       "      <th>Unnamed: 0</th>\n",
       "      <th>tsne_outlier_score</th>\n",
       "      <th>light_curve_index</th>\n",
       "    </tr>\n",
       "  </thead>\n",
       "  <tbody>\n",
       "    <tr>\n",
       "      <td>count</td>\n",
       "      <td>2500.00000</td>\n",
       "      <td>2.500000e+03</td>\n",
       "      <td>2500.00000</td>\n",
       "    </tr>\n",
       "    <tr>\n",
       "      <td>mean</td>\n",
       "      <td>1249.50000</td>\n",
       "      <td>1.321212e-07</td>\n",
       "      <td>1249.50000</td>\n",
       "    </tr>\n",
       "    <tr>\n",
       "      <td>std</td>\n",
       "      <td>721.83216</td>\n",
       "      <td>1.000200e+00</td>\n",
       "      <td>721.83216</td>\n",
       "    </tr>\n",
       "    <tr>\n",
       "      <td>min</td>\n",
       "      <td>0.00000</td>\n",
       "      <td>-1.805012e+00</td>\n",
       "      <td>0.00000</td>\n",
       "    </tr>\n",
       "    <tr>\n",
       "      <td>25%</td>\n",
       "      <td>624.75000</td>\n",
       "      <td>-6.782405e-01</td>\n",
       "      <td>624.75000</td>\n",
       "    </tr>\n",
       "    <tr>\n",
       "      <td>50%</td>\n",
       "      <td>1249.50000</td>\n",
       "      <td>-9.048525e-02</td>\n",
       "      <td>1249.50000</td>\n",
       "    </tr>\n",
       "    <tr>\n",
       "      <td>75%</td>\n",
       "      <td>1874.25000</td>\n",
       "      <td>5.400390e-01</td>\n",
       "      <td>1874.25000</td>\n",
       "    </tr>\n",
       "    <tr>\n",
       "      <td>max</td>\n",
       "      <td>2499.00000</td>\n",
       "      <td>7.021760e+00</td>\n",
       "      <td>2499.00000</td>\n",
       "    </tr>\n",
       "  </tbody>\n",
       "</table>\n",
       "</div>"
      ],
      "text/plain": [
       "       Unnamed: 0  tsne_outlier_score  light_curve_index\n",
       "count  2500.00000        2.500000e+03         2500.00000\n",
       "mean   1249.50000        1.321212e-07         1249.50000\n",
       "std     721.83216        1.000200e+00          721.83216\n",
       "min       0.00000       -1.805012e+00            0.00000\n",
       "25%     624.75000       -6.782405e-01          624.75000\n",
       "50%    1249.50000       -9.048525e-02         1249.50000\n",
       "75%    1874.25000        5.400390e-01         1874.25000\n",
       "max    2499.00000        7.021760e+00         2499.00000"
      ]
     },
     "execution_count": 108,
     "metadata": {},
     "output_type": "execute_result"
    }
   ],
   "source": [
    "tsne_scores.describe()"
   ]
  },
  {
   "cell_type": "code",
   "execution_count": 109,
   "metadata": {},
   "outputs": [
    {
     "data": {
      "text/plain": [
       "(array([442., 873., 752., 310.,  84.,  27.,   7.,   2.,   0.,   3.]),\n",
       " array([-1.8050123 , -0.92233502, -0.03965774,  0.84301954,  1.72569682,\n",
       "         2.6083741 ,  3.49105138,  4.37372866,  5.25640594,  6.13908322,\n",
       "         7.0217605 ]),\n",
       " <a list of 10 Patch objects>)"
      ]
     },
     "execution_count": 109,
     "metadata": {},
     "output_type": "execute_result"
    },
    {
     "data": {
      "image/png": "[encoded data removed]",
      "text/plain": [
       "<Figure size 432x288 with 1 Axes>"
      ]
     },
     "metadata": {
      "needs_background": "light"
     },
     "output_type": "display_data"
    }
   ],
   "source": [
    "plt.hist(tsne_scores[\"tsne_outlier_score\"])"
   ]
  },
  {
   "cell_type": "code",
   "execution_count": 110,
   "metadata": {},
   "outputs": [],
   "source": [
    "bins = [-1, 0, 1, 2, 6]\n",
    "\n",
    "lc_indices = []\n",
    "scores = []\n",
    "\n",
    "lc_indices.append(tsne_scores[tsne_scores[\"tsne_outlier_score\"] < bins[0]].iloc[1][\"light_curve_index\"])\n",
    "scores.append(float(tsne_scores[tsne_scores[\"light_curve_index\"] == lc_indices[-1]][\"tsne_outlier_score\"]))\n",
    "\n",
    "for i in range(len(bins) - 1):\n",
    "    temp = tsne_scores[tsne_scores[\"tsne_outlier_score\"] >= bins[i]]\n",
    "    temp = temp[temp[\"tsne_outlier_score\"] <= bins[i+1]]\n",
    "    lc_index = temp.iloc[1][\"light_curve_index\"]\n",
    "    lc_indices.append(lc_index)\n",
    "    scores.append(float(tsne_scores[tsne_scores[\"light_curve_index\"] == lc_index][\"tsne_outlier_score\"]))\n",
    "lc_indices.append(tsne_scores[tsne_scores[\"tsne_outlier_score\"] > bins[len(bins) - 1]].iloc[1][\"light_curve_index\"])\n",
    "scores.append(float(tsne_scores[tsne_scores[\"light_curve_index\"] == lc_indices[-1]][\"tsne_outlier_score\"]))"
   ]
  },
  {
   "cell_type": "code",
   "execution_count": 111,
   "metadata": {},
   "outputs": [
    {
     "name": "stdout",
     "output_type": "stream",
     "text": [
      "[5.0, 9.0, 7.0, 20.0, 3.0, 1317.0]\n",
      "[-1.6493415, -0.49475765, 0.43354923, 1.7025631999999997, 3.327803, 6.757254]\n"
     ]
    }
   ],
   "source": [
    "print(lc_indices)\n",
    "print(scores)"
   ]
  },
  {
   "cell_type": "code",
   "execution_count": 112,
   "metadata": {},
   "outputs": [
    {
     "name": "stdout",
     "output_type": "stream",
     "text": [
      "ON LC 5.0\n",
      "ON LC 9.0\n",
      "ON LC 7.0\n",
      "ON LC 20.0\n",
      "ON LC 3.0\n",
      "ON LC 1317.0\n"
     ]
    }
   ],
   "source": [
    "create_dmdt_plot(lc_indices, full_data, scores, \"new_final_images/dmdt_images/tsne_sparse.ps\")"
   ]
  },
  {
   "cell_type": "code",
   "execution_count": 113,
   "metadata": {},
   "outputs": [
    {
     "data": {
      "text/html": [
       "<div>\n",
       "<style scoped>\n",
       "    .dataframe tbody tr th:only-of-type {\n",
       "        vertical-align: middle;\n",
       "    }\n",
       "\n",
       "    .dataframe tbody tr th {\n",
       "        vertical-align: top;\n",
       "    }\n",
       "\n",
       "    .dataframe thead th {\n",
       "        text-align: right;\n",
       "    }\n",
       "</style>\n",
       "<table border=\"1\" class=\"dataframe\">\n",
       "  <thead>\n",
       "    <tr style=\"text-align: right;\">\n",
       "      <th></th>\n",
       "      <th>Unnamed: 0</th>\n",
       "      <th>umap_outlier_score</th>\n",
       "      <th>light_curve_index</th>\n",
       "    </tr>\n",
       "  </thead>\n",
       "  <tbody>\n",
       "    <tr>\n",
       "      <td>count</td>\n",
       "      <td>2500.00000</td>\n",
       "      <td>2.500000e+03</td>\n",
       "      <td>2500.00000</td>\n",
       "    </tr>\n",
       "    <tr>\n",
       "      <td>mean</td>\n",
       "      <td>1249.50000</td>\n",
       "      <td>-6.775724e-08</td>\n",
       "      <td>1249.50000</td>\n",
       "    </tr>\n",
       "    <tr>\n",
       "      <td>std</td>\n",
       "      <td>721.83216</td>\n",
       "      <td>1.000200e+00</td>\n",
       "      <td>721.83216</td>\n",
       "    </tr>\n",
       "    <tr>\n",
       "      <td>min</td>\n",
       "      <td>0.00000</td>\n",
       "      <td>-1.462530e+00</td>\n",
       "      <td>0.00000</td>\n",
       "    </tr>\n",
       "    <tr>\n",
       "      <td>25%</td>\n",
       "      <td>624.75000</td>\n",
       "      <td>-7.560087e-01</td>\n",
       "      <td>624.75000</td>\n",
       "    </tr>\n",
       "    <tr>\n",
       "      <td>50%</td>\n",
       "      <td>1249.50000</td>\n",
       "      <td>-2.193230e-01</td>\n",
       "      <td>1249.50000</td>\n",
       "    </tr>\n",
       "    <tr>\n",
       "      <td>75%</td>\n",
       "      <td>1874.25000</td>\n",
       "      <td>5.422159e-01</td>\n",
       "      <td>1874.25000</td>\n",
       "    </tr>\n",
       "    <tr>\n",
       "      <td>max</td>\n",
       "      <td>2499.00000</td>\n",
       "      <td>5.427856e+00</td>\n",
       "      <td>2499.00000</td>\n",
       "    </tr>\n",
       "  </tbody>\n",
       "</table>\n",
       "</div>"
      ],
      "text/plain": [
       "       Unnamed: 0  umap_outlier_score  light_curve_index\n",
       "count  2500.00000        2.500000e+03         2500.00000\n",
       "mean   1249.50000       -6.775724e-08         1249.50000\n",
       "std     721.83216        1.000200e+00          721.83216\n",
       "min       0.00000       -1.462530e+00            0.00000\n",
       "25%     624.75000       -7.560087e-01          624.75000\n",
       "50%    1249.50000       -2.193230e-01         1249.50000\n",
       "75%    1874.25000        5.422159e-01         1874.25000\n",
       "max    2499.00000        5.427856e+00         2499.00000"
      ]
     },
     "execution_count": 113,
     "metadata": {},
     "output_type": "execute_result"
    }
   ],
   "source": [
    "umap_scores.describe()"
   ]
  },
  {
   "cell_type": "code",
   "execution_count": 114,
   "metadata": {},
   "outputs": [
    {
     "data": {
      "text/plain": [
       "(array([599., 776., 537., 310., 162.,  67.,  28.,  16.,   4.,   1.]),\n",
       " array([-1.4625301 , -0.77349149, -0.08445288,  0.60458573,  1.29362434,\n",
       "         1.98266295,  2.67170156,  3.36074017,  4.04977878,  4.73881739,\n",
       "         5.427856  ]),\n",
       " <a list of 10 Patch objects>)"
      ]
     },
     "execution_count": 114,
     "metadata": {},
     "output_type": "execute_result"
    },
    {
     "data": {
      "image/png": "[encoded data removed]",
      "text/plain": [
       "<Figure size 432x288 with 1 Axes>"
      ]
     },
     "metadata": {
      "needs_background": "light"
     },
     "output_type": "display_data"
    }
   ],
   "source": [
    "plt.hist(umap_scores[\"umap_outlier_score\"])"
   ]
  },
  {
   "cell_type": "code",
   "execution_count": 115,
   "metadata": {},
   "outputs": [],
   "source": [
    "bins = [-1, 0, 1, 2, 4]\n",
    "lc_indices = []\n",
    "scores = []\n",
    "\n",
    "lc_indices.append(umap_scores[umap_scores[\"umap_outlier_score\"] < bins[0]].iloc[1][\"light_curve_index\"])\n",
    "scores.append(float(umap_scores[umap_scores[\"light_curve_index\"] == lc_indices[-1]][\"umap_outlier_score\"]))\n",
    "\n",
    "for i in range(len(bins) - 1):\n",
    "    temp = umap_scores[umap_scores[\"umap_outlier_score\"] >= bins[i]]\n",
    "    temp = temp[temp[\"umap_outlier_score\"] <= bins[i+1]]\n",
    "    lc_index = temp.iloc[1][\"light_curve_index\"]\n",
    "    lc_indices.append(lc_index)\n",
    "    scores.append(float(umap_scores[umap_scores[\"light_curve_index\"] == lc_index][\"umap_outlier_score\"]))\n",
    "lc_indices.append(umap_scores[umap_scores[\"umap_outlier_score\"] > bins[len(bins) - 1]].iloc[1][\"light_curve_index\"])\n",
    "scores.append(float(umap_scores[umap_scores[\"light_curve_index\"] == lc_indices[-1]][\"umap_outlier_score\"]))\n",
    "\n"
   ]
  },
  {
   "cell_type": "code",
   "execution_count": 116,
   "metadata": {},
   "outputs": [
    {
     "name": "stdout",
     "output_type": "stream",
     "text": [
      "[17.0, 2.0, 3.0, 42.0, 20.0, 355.0]\n",
      "[-1.3849847, -0.16631173, 0.33934692, 1.059859, 3.512322, 4.112435]\n"
     ]
    }
   ],
   "source": [
    "print(lc_indices)\n",
    "print(scores)"
   ]
  },
  {
   "cell_type": "code",
   "execution_count": 117,
   "metadata": {},
   "outputs": [
    {
     "name": "stdout",
     "output_type": "stream",
     "text": [
      "ON LC 17.0\n",
      "ON LC 2.0\n",
      "ON LC 3.0\n",
      "ON LC 42.0\n",
      "ON LC 20.0\n",
      "ON LC 355.0\n"
     ]
    }
   ],
   "source": [
    "create_dmdt_plot(lc_indices, full_data, scores, \"new_final_images/dmdt_images/umap_sparse.ps\")"
   ]
  },
  {
   "cell_type": "code",
   "execution_count": 122,
   "metadata": {},
   "outputs": [],
   "source": [
    "## tabbys star\n",
    "TABBY_STAR_INDEX = 1156\n",
    "tabby_tsne_score = tsne_scores[tsne_scores[\"light_curve_index\"] == TABBY_STAR_INDEX][\"tsne_outlier_score\"]\n",
    "plt.imshow(full_data[TABBY_STAR_INDEX], norm=LogNorm(), origin=\"Lower\")\n",
    "\n",
    "title = \"Tabby's Star (Dense)\"\n",
    "plt.title(title)\n",
    "plt.tight_layout()\n",
    "plt.savefig(\"new_final_images/dmdt_images/tabby_sparse.ps\", dpi=100)\n",
    "plt.close()"
   ]
  },
  {
   "cell_type": "code",
   "execution_count": null,
   "metadata": {},
   "outputs": [],
   "source": []
  }
 ],
 "metadata": {
  "kernelspec": {
   "display_name": "Python 3",
   "language": "python",
   "name": "python3"
  },
  "language_info": {
   "codemirror_mode": {
    "name": "ipython",
    "version": 3
   },
   "file_extension": ".py",
   "mimetype": "text/x-python",
   "name": "python",
   "nbconvert_exporter": "python",
   "pygments_lexer": "ipython3",
   "version": "3.7.6"
  }
 },
 "nbformat": 4,
 "nbformat_minor": 2
}
