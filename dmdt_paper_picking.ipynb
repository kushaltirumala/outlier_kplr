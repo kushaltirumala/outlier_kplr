{
 "cells": [
  {
   "cell_type": "code",
   "execution_count": 1,
   "metadata": {},
   "outputs": [],
   "source": [
    "import numpy as np\n",
    "import pandas as pd\n",
    "import matplotlib.pyplot as plt\n",
    "import pandas as pd"
   ]
  },
  {
   "cell_type": "code",
   "execution_count": 2,
   "metadata": {},
   "outputs": [],
   "source": [
    "# load the scores, and original full data\n",
    "# DIR_TITLE = \"dmdt_dense_save/\"\n",
    "data_part_one = np.load(\"dmdt_dense_save/part_1.npy\")\n",
    "data_part_two = np.load(\"dmdt_dense_save/part_2.npy\")\n",
    "full_data = np.concatenate((data_part_one, data_part_two), axis=0)\n",
    "# full_data = np.load(\"dmdt_sparse_save/part_1.npy\")\n",
    "\n",
    "# full_data = np.load(\"test_images_dense/full_dense_light_curve_points_removed_spikes.npy\")\n",
    "\n",
    "tsne_scores = pd.read_csv(\"mar_20_results/dense_results/\" + \"tsne_outlier_scores_dense.csv\")\n",
    "umap_scores = pd.read_csv(\"mar_20_results/dense_results/\" + \"umap_outlier_scores_dense.csv\")"
   ]
  },
  {
   "cell_type": "code",
   "execution_count": 3,
   "metadata": {},
   "outputs": [
    {
     "data": {
      "text/plain": [
       "(147036, 21, 19)"
      ]
     },
     "execution_count": 3,
     "metadata": {},
     "output_type": "execute_result"
    }
   ],
   "source": [
    "full_data.shape"
   ]
  },
  {
   "cell_type": "markdown",
   "metadata": {},
   "source": [
    "### TSNE - dense image picking"
   ]
  },
  {
   "cell_type": "code",
   "execution_count": 4,
   "metadata": {},
   "outputs": [
    {
     "data": {
      "text/html": [
       "<div>\n",
       "<style scoped>\n",
       "    .dataframe tbody tr th:only-of-type {\n",
       "        vertical-align: middle;\n",
       "    }\n",
       "\n",
       "    .dataframe tbody tr th {\n",
       "        vertical-align: top;\n",
       "    }\n",
       "\n",
       "    .dataframe thead th {\n",
       "        text-align: right;\n",
       "    }\n",
       "</style>\n",
       "<table border=\"1\" class=\"dataframe\">\n",
       "  <thead>\n",
       "    <tr style=\"text-align: right;\">\n",
       "      <th></th>\n",
       "      <th>Unnamed: 0</th>\n",
       "      <th>tsne_outlier_score</th>\n",
       "      <th>light_curve_index</th>\n",
       "    </tr>\n",
       "  </thead>\n",
       "  <tbody>\n",
       "    <tr>\n",
       "      <th>0</th>\n",
       "      <td>0</td>\n",
       "      <td>-0.691766</td>\n",
       "      <td>0</td>\n",
       "    </tr>\n",
       "    <tr>\n",
       "      <th>1</th>\n",
       "      <td>1</td>\n",
       "      <td>-0.380334</td>\n",
       "      <td>1</td>\n",
       "    </tr>\n",
       "    <tr>\n",
       "      <th>2</th>\n",
       "      <td>2</td>\n",
       "      <td>0.143186</td>\n",
       "      <td>2</td>\n",
       "    </tr>\n",
       "    <tr>\n",
       "      <th>3</th>\n",
       "      <td>3</td>\n",
       "      <td>-1.193848</td>\n",
       "      <td>3</td>\n",
       "    </tr>\n",
       "    <tr>\n",
       "      <th>4</th>\n",
       "      <td>4</td>\n",
       "      <td>0.177553</td>\n",
       "      <td>4</td>\n",
       "    </tr>\n",
       "    <tr>\n",
       "      <th>...</th>\n",
       "      <td>...</td>\n",
       "      <td>...</td>\n",
       "      <td>...</td>\n",
       "    </tr>\n",
       "    <tr>\n",
       "      <th>147031</th>\n",
       "      <td>147031</td>\n",
       "      <td>0.513509</td>\n",
       "      <td>147031</td>\n",
       "    </tr>\n",
       "    <tr>\n",
       "      <th>147032</th>\n",
       "      <td>147032</td>\n",
       "      <td>0.177077</td>\n",
       "      <td>147032</td>\n",
       "    </tr>\n",
       "    <tr>\n",
       "      <th>147033</th>\n",
       "      <td>147033</td>\n",
       "      <td>1.853783</td>\n",
       "      <td>147033</td>\n",
       "    </tr>\n",
       "    <tr>\n",
       "      <th>147034</th>\n",
       "      <td>147034</td>\n",
       "      <td>0.252218</td>\n",
       "      <td>147034</td>\n",
       "    </tr>\n",
       "    <tr>\n",
       "      <th>147035</th>\n",
       "      <td>147035</td>\n",
       "      <td>-0.263786</td>\n",
       "      <td>147035</td>\n",
       "    </tr>\n",
       "  </tbody>\n",
       "</table>\n",
       "<p>147036 rows × 3 columns</p>\n",
       "</div>"
      ],
      "text/plain": [
       "        Unnamed: 0  tsne_outlier_score  light_curve_index\n",
       "0                0           -0.691766                  0\n",
       "1                1           -0.380334                  1\n",
       "2                2            0.143186                  2\n",
       "3                3           -1.193848                  3\n",
       "4                4            0.177553                  4\n",
       "...            ...                 ...                ...\n",
       "147031      147031            0.513509             147031\n",
       "147032      147032            0.177077             147032\n",
       "147033      147033            1.853783             147033\n",
       "147034      147034            0.252218             147034\n",
       "147035      147035           -0.263786             147035\n",
       "\n",
       "[147036 rows x 3 columns]"
      ]
     },
     "execution_count": 4,
     "metadata": {},
     "output_type": "execute_result"
    }
   ],
   "source": [
    "# dense light curve analysis\n",
    "tsne_scores"
   ]
  },
  {
   "cell_type": "code",
   "execution_count": 5,
   "metadata": {},
   "outputs": [
    {
     "data": {
      "text/html": [
       "<div>\n",
       "<style scoped>\n",
       "    .dataframe tbody tr th:only-of-type {\n",
       "        vertical-align: middle;\n",
       "    }\n",
       "\n",
       "    .dataframe tbody tr th {\n",
       "        vertical-align: top;\n",
       "    }\n",
       "\n",
       "    .dataframe thead th {\n",
       "        text-align: right;\n",
       "    }\n",
       "</style>\n",
       "<table border=\"1\" class=\"dataframe\">\n",
       "  <thead>\n",
       "    <tr style=\"text-align: right;\">\n",
       "      <th></th>\n",
       "      <th>Unnamed: 0</th>\n",
       "      <th>tsne_outlier_score</th>\n",
       "      <th>light_curve_index</th>\n",
       "    </tr>\n",
       "  </thead>\n",
       "  <tbody>\n",
       "    <tr>\n",
       "      <th>count</th>\n",
       "      <td>147036.000000</td>\n",
       "      <td>1.470360e+05</td>\n",
       "      <td>147036.000000</td>\n",
       "    </tr>\n",
       "    <tr>\n",
       "      <th>mean</th>\n",
       "      <td>73517.500000</td>\n",
       "      <td>-1.102608e-07</td>\n",
       "      <td>73517.500000</td>\n",
       "    </tr>\n",
       "    <tr>\n",
       "      <th>std</th>\n",
       "      <td>42445.781428</td>\n",
       "      <td>1.000003e+00</td>\n",
       "      <td>42445.781428</td>\n",
       "    </tr>\n",
       "    <tr>\n",
       "      <th>min</th>\n",
       "      <td>0.000000</td>\n",
       "      <td>-1.377683e+00</td>\n",
       "      <td>0.000000</td>\n",
       "    </tr>\n",
       "    <tr>\n",
       "      <th>25%</th>\n",
       "      <td>36758.750000</td>\n",
       "      <td>-6.908969e-01</td>\n",
       "      <td>36758.750000</td>\n",
       "    </tr>\n",
       "    <tr>\n",
       "      <th>50%</th>\n",
       "      <td>73517.500000</td>\n",
       "      <td>-2.116313e-01</td>\n",
       "      <td>73517.500000</td>\n",
       "    </tr>\n",
       "    <tr>\n",
       "      <th>75%</th>\n",
       "      <td>110276.250000</td>\n",
       "      <td>4.518173e-01</td>\n",
       "      <td>110276.250000</td>\n",
       "    </tr>\n",
       "    <tr>\n",
       "      <th>max</th>\n",
       "      <td>147035.000000</td>\n",
       "      <td>2.316730e+01</td>\n",
       "      <td>147035.000000</td>\n",
       "    </tr>\n",
       "  </tbody>\n",
       "</table>\n",
       "</div>"
      ],
      "text/plain": [
       "          Unnamed: 0  tsne_outlier_score  light_curve_index\n",
       "count  147036.000000        1.470360e+05      147036.000000\n",
       "mean    73517.500000       -1.102608e-07       73517.500000\n",
       "std     42445.781428        1.000003e+00       42445.781428\n",
       "min         0.000000       -1.377683e+00           0.000000\n",
       "25%     36758.750000       -6.908969e-01       36758.750000\n",
       "50%     73517.500000       -2.116313e-01       73517.500000\n",
       "75%    110276.250000        4.518173e-01      110276.250000\n",
       "max    147035.000000        2.316730e+01      147035.000000"
      ]
     },
     "execution_count": 5,
     "metadata": {},
     "output_type": "execute_result"
    }
   ],
   "source": [
    "tsne_scores.describe()"
   ]
  },
  {
   "cell_type": "code",
   "execution_count": 20,
   "metadata": {},
   "outputs": [
    {
     "data": {
      "text/plain": [
       "(array([1.41961e+05, 4.67500e+03, 3.25000e+02, 5.40000e+01, 1.00000e+01,\n",
       "        6.00000e+00, 3.00000e+00, 1.00000e+00, 0.00000e+00, 1.00000e+00]),\n",
       " array([-1.353842 ,  2.0744644,  5.5027708,  8.9310772, 12.3593836,\n",
       "        15.78769  , 19.2159964, 22.6443028, 26.0726092, 29.5009156,\n",
       "        32.929222 ]),\n",
       " <a list of 10 Patch objects>)"
      ]
     },
     "execution_count": 20,
     "metadata": {},
     "output_type": "execute_result"
    },
    {
     "data": {
      "image/png": "[encoded data removed]",
      "text/plain": [
       "<Figure size 432x288 with 1 Axes>"
      ]
     },
     "metadata": {
      "needs_background": "light"
     },
     "output_type": "display_data"
    }
   ],
   "source": [
    "plt.hist(tsne_scores[\"tsne_outlier_score\"])"
   ]
  },
  {
   "cell_type": "code",
   "execution_count": 21,
   "metadata": {},
   "outputs": [],
   "source": [
    "bins = [0, 1, 3, 5, 10]\n"
   ]
  },
  {
   "cell_type": "code",
   "execution_count": 22,
   "metadata": {},
   "outputs": [],
   "source": [
    "lc_indices = []\n",
    "scores = []\n",
    "\n",
    "lc_indices.append(tsne_scores[tsne_scores[\"tsne_outlier_score\"] < bins[0]].iloc[1][\"light_curve_index\"])\n",
    "scores.append(float(tsne_scores[tsne_scores[\"light_curve_index\"] == lc_indices[-1]][\"tsne_outlier_score\"]))\n",
    "\n",
    "for i in range(len(bins) - 1):\n",
    "    temp = tsne_scores[tsne_scores[\"tsne_outlier_score\"] >= bins[i]]\n",
    "    temp = temp[temp[\"tsne_outlier_score\"] <= bins[i+1]]\n",
    "    lc_index = temp.iloc[1][\"light_curve_index\"]\n",
    "    lc_indices.append(lc_index)\n",
    "    scores.append(float(tsne_scores[tsne_scores[\"light_curve_index\"] == lc_index][\"tsne_outlier_score\"]))\n",
    "lc_indices.append(tsne_scores[tsne_scores[\"tsne_outlier_score\"] > bins[len(bins) - 1]].iloc[1][\"light_curve_index\"])\n",
    "scores.append(float(tsne_scores[tsne_scores[\"light_curve_index\"] == lc_indices[-1]][\"tsne_outlier_score\"]))"
   ]
  },
  {
   "cell_type": "code",
   "execution_count": 23,
   "metadata": {},
   "outputs": [
    {
     "name": "stdout",
     "output_type": "stream",
     "text": [
      "[3.0, 2.0, 19.0, 375.0, 771.0, 9872.0]\n",
      "[-0.77676827, 0.4129394, 1.6518974999999998, 3.4580127999999997, 6.7557497, 10.258761999999999]\n"
     ]
    }
   ],
   "source": [
    "print(lc_indices)\n",
    "print(scores)"
   ]
  },
  {
   "cell_type": "code",
   "execution_count": 6,
   "metadata": {},
   "outputs": [],
   "source": [
    "from matplotlib.colors import LogNorm\n",
    "\n",
    "# dmints = [-0.05, -0.02,-0.01, -0.006, -0.005, -0.004, -0.0012, \n",
    "#           -0.001, -0.0006, -0.0003, 0,  0.0003, 0.0006, 0.001, 0.0012, 0.003, \n",
    "#           0.004, 0.005, 0.006, 0.01, 0.02, 0.05]\n",
    "# dtints = [-1.0/145, 1.0/47, 2.0/47, 3.0/47, 4.0/47, 6.0/47, 10.0/47, 15.0/47,\n",
    "#           20.0/47, 30.0/47, 40.0/47,   1.0,   1.2,  \n",
    "#            1.4,  1.5, 1.7,  2, 2.25,  2.5, 3.0]\n",
    "\n",
    "dmints = [-0.05, -0.02,-0.01, -0.006, -0.005, -0.004, -0.0012, \n",
    "          -0.001, -0.0006, -0.0003, 0,  0.0003, 0.0006, 0.001, 0.0012, 0.003, \n",
    "          0.004, 0.005, 0.006, 0.01, 0.02, 0.05]\n",
    "dtints = [-1.0/145, 1.0/47, 2.0/47, 3.0/47, 4.0/47, 6.0/47, 10.0/47, 15.0/47,\n",
    "          20.0/47, 30.0/47, 40.0/47,   1.0,   1.2,  \n",
    "           1.4,  1.5, 1.7,  2, 2.25,  2.5, 3.0]\n",
    "\n",
    "xpositions = range(len(dtints))\n",
    "ypositions = range(len(dmints))\n",
    "xlabels = ['%.2f' % dt for dt in dtints]\n",
    "ylabels = ['%.2f' % dm for dm in dmints]\n",
    "\n",
    "\n",
    "def create_dmdt_plot(lc_indices, dmdt_data, scores, save_title):\n",
    "    f, axarr = plt.subplots(3, 2, figsize=(10,10))\n",
    "    row = 0\n",
    "    for i, lc_index in enumerate(lc_indices):\n",
    "        col = i % 2\n",
    "        if col == 0:\n",
    "            row += 1\n",
    "        \n",
    "        print(\"ON LC \" + str(lc_index))\n",
    "        ar_x = row - 1\n",
    "        ar_y = col\n",
    "        score = \"%.2f\" % scores[i]\n",
    "        title = \"LC: \" + str(int(lc_index))\n",
    "        axarr[ar_x, ar_y].set_title(title)\n",
    "        \n",
    "        to_show = dmdt_data[int(lc_index)]\n",
    "        \n",
    "        axarr[ar_x, ar_y].imshow(to_show, norm = LogNorm(), origin=\"lower\")\n",
    "        axarr[ar_x, ar_y].set_xticks([])\n",
    "        axarr[ar_x, ar_y].set_xticklabels([])\n",
    "        axarr[ar_x, ar_y].set_yticks([])\n",
    "        axarr[ar_x, ar_y].set_yticklabels([])\n",
    "            \n",
    "\n",
    "#     axarr[2,2].set_visible(True)\n",
    "    \n",
    "    plt.tight_layout()\n",
    "    plt.savefig(save_title, dpi=100)\n",
    "    plt.close()\n",
    "        \n",
    "        \n",
    "# outliers = [1980, 1799, 1392, 374, 2319, 1970, 386, 947, 1840]\n",
    "\n",
    "\n",
    "\n",
    "# create_dmdt_plot(lc_indices, full_data, scores, \"mar_20_dmdt_plots/dmdt_plots_sparse_random_tsne.ps\")"
   ]
  },
  {
   "cell_type": "markdown",
   "metadata": {},
   "source": [
    "### UMAP - dense image picking\n"
   ]
  },
  {
   "cell_type": "code",
   "execution_count": 38,
   "metadata": {},
   "outputs": [
    {
     "data": {
      "text/html": [
       "<div>\n",
       "<style scoped>\n",
       "    .dataframe tbody tr th:only-of-type {\n",
       "        vertical-align: middle;\n",
       "    }\n",
       "\n",
       "    .dataframe tbody tr th {\n",
       "        vertical-align: top;\n",
       "    }\n",
       "\n",
       "    .dataframe thead th {\n",
       "        text-align: right;\n",
       "    }\n",
       "</style>\n",
       "<table border=\"1\" class=\"dataframe\">\n",
       "  <thead>\n",
       "    <tr style=\"text-align: right;\">\n",
       "      <th></th>\n",
       "      <th>Unnamed: 0</th>\n",
       "      <th>umap_outlier_score</th>\n",
       "      <th>light_curve_index</th>\n",
       "    </tr>\n",
       "  </thead>\n",
       "  <tbody>\n",
       "    <tr>\n",
       "      <th>0</th>\n",
       "      <td>0</td>\n",
       "      <td>0.320064</td>\n",
       "      <td>0</td>\n",
       "    </tr>\n",
       "    <tr>\n",
       "      <th>1</th>\n",
       "      <td>1</td>\n",
       "      <td>1.307683</td>\n",
       "      <td>1</td>\n",
       "    </tr>\n",
       "    <tr>\n",
       "      <th>2</th>\n",
       "      <td>2</td>\n",
       "      <td>1.996953</td>\n",
       "      <td>2</td>\n",
       "    </tr>\n",
       "    <tr>\n",
       "      <th>3</th>\n",
       "      <td>3</td>\n",
       "      <td>-0.734267</td>\n",
       "      <td>3</td>\n",
       "    </tr>\n",
       "    <tr>\n",
       "      <th>4</th>\n",
       "      <td>4</td>\n",
       "      <td>-1.237638</td>\n",
       "      <td>4</td>\n",
       "    </tr>\n",
       "    <tr>\n",
       "      <th>...</th>\n",
       "      <td>...</td>\n",
       "      <td>...</td>\n",
       "      <td>...</td>\n",
       "    </tr>\n",
       "    <tr>\n",
       "      <th>147031</th>\n",
       "      <td>147031</td>\n",
       "      <td>-0.585255</td>\n",
       "      <td>147031</td>\n",
       "    </tr>\n",
       "    <tr>\n",
       "      <th>147032</th>\n",
       "      <td>147032</td>\n",
       "      <td>0.161166</td>\n",
       "      <td>147032</td>\n",
       "    </tr>\n",
       "    <tr>\n",
       "      <th>147033</th>\n",
       "      <td>147033</td>\n",
       "      <td>0.634139</td>\n",
       "      <td>147033</td>\n",
       "    </tr>\n",
       "    <tr>\n",
       "      <th>147034</th>\n",
       "      <td>147034</td>\n",
       "      <td>1.881548</td>\n",
       "      <td>147034</td>\n",
       "    </tr>\n",
       "    <tr>\n",
       "      <th>147035</th>\n",
       "      <td>147035</td>\n",
       "      <td>0.869929</td>\n",
       "      <td>147035</td>\n",
       "    </tr>\n",
       "  </tbody>\n",
       "</table>\n",
       "<p>147036 rows × 3 columns</p>\n",
       "</div>"
      ],
      "text/plain": [
       "        Unnamed: 0  umap_outlier_score  light_curve_index\n",
       "0                0            0.320064                  0\n",
       "1                1            1.307683                  1\n",
       "2                2            1.996953                  2\n",
       "3                3           -0.734267                  3\n",
       "4                4           -1.237638                  4\n",
       "...            ...                 ...                ...\n",
       "147031      147031           -0.585255             147031\n",
       "147032      147032            0.161166             147032\n",
       "147033      147033            0.634139             147033\n",
       "147034      147034            1.881548             147034\n",
       "147035      147035            0.869929             147035\n",
       "\n",
       "[147036 rows x 3 columns]"
      ]
     },
     "execution_count": 38,
     "metadata": {},
     "output_type": "execute_result"
    }
   ],
   "source": [
    "umap_scores"
   ]
  },
  {
   "cell_type": "code",
   "execution_count": 39,
   "metadata": {},
   "outputs": [
    {
     "data": {
      "text/plain": [
       "(array([1.24887e+05, 2.10420e+04, 1.03300e+03, 6.40000e+01, 7.00000e+00,\n",
       "        0.00000e+00, 1.00000e+00, 0.00000e+00, 0.00000e+00, 2.00000e+00]),\n",
       " array([-1.5273027 ,  0.95697287,  3.44124844,  5.92552401,  8.40979958,\n",
       "        10.89407515, 13.37835072, 15.86262629, 18.34690186, 20.83117743,\n",
       "        23.315453  ]),\n",
       " <a list of 10 Patch objects>)"
      ]
     },
     "execution_count": 39,
     "metadata": {},
     "output_type": "execute_result"
    },
    {
     "data": {
      "image/png": "[encoded data removed]",
      "text/plain": [
       "<Figure size 432x288 with 1 Axes>"
      ]
     },
     "metadata": {
      "needs_background": "light"
     },
     "output_type": "display_data"
    }
   ],
   "source": [
    "plt.hist(umap_scores[\"umap_outlier_score\"])"
   ]
  },
  {
   "cell_type": "code",
   "execution_count": 40,
   "metadata": {},
   "outputs": [],
   "source": [
    "bins = [0, 1, 3, 5, 10]\n",
    "lc_indices = []\n",
    "scores = []\n",
    "\n",
    "lc_indices.append(umap_scores[umap_scores[\"umap_outlier_score\"] < bins[0]].iloc[1][\"light_curve_index\"])\n",
    "scores.append(float(umap_scores[umap_scores[\"light_curve_index\"] == lc_indices[-1]][\"umap_outlier_score\"]))\n",
    "\n",
    "for i in range(len(bins) - 1):\n",
    "    temp = umap_scores[umap_scores[\"umap_outlier_score\"] >= bins[i]]\n",
    "    temp = temp[temp[\"umap_outlier_score\"] <= bins[i+1]]\n",
    "    lc_index = temp.iloc[1][\"light_curve_index\"]\n",
    "    lc_indices.append(lc_index)\n",
    "    scores.append(float(umap_scores[umap_scores[\"light_curve_index\"] == lc_index][\"umap_outlier_score\"]))\n",
    "lc_indices.append(umap_scores[umap_scores[\"umap_outlier_score\"] > bins[len(bins) - 1]].iloc[1][\"light_curve_index\"])\n",
    "scores.append(float(umap_scores[umap_scores[\"light_curve_index\"] == lc_indices[-1]][\"umap_outlier_score\"]))\n",
    "\n"
   ]
  },
  {
   "cell_type": "code",
   "execution_count": 41,
   "metadata": {},
   "outputs": [
    {
     "name": "stdout",
     "output_type": "stream",
     "text": [
      "[4.0, 6.0, 2.0, 330.0, 804.0, 65768.0]\n",
      "[-1.2376382, 0.6217723, 1.9969531000000003, 4.4118414, 6.616692, 10.730572]\n"
     ]
    }
   ],
   "source": [
    "print(lc_indices)\n",
    "print(scores)"
   ]
  },
  {
   "cell_type": "code",
   "execution_count": 42,
   "metadata": {},
   "outputs": [
    {
     "name": "stdout",
     "output_type": "stream",
     "text": [
      "ON LC 4.0\n",
      "ON LC 6.0\n",
      "ON LC 2.0\n",
      "ON LC 330.0\n",
      "ON LC 804.0\n",
      "ON LC 65768.0\n"
     ]
    }
   ],
   "source": [
    "create_dmdt_plot(lc_indices, full_data, scores, \"mar_20_dmdt_plots/dmdt_plots_dense_random_umap.ps\")"
   ]
  },
  {
   "cell_type": "code",
   "execution_count": 19,
   "metadata": {},
   "outputs": [
    {
     "name": "stdout",
     "output_type": "stream",
     "text": [
      "ON LC 113556\n",
      "ON LC 104988\n",
      "ON LC 90850\n",
      "ON LC 126500\n",
      "ON LC 51929\n",
      "ON LC 5162\n",
      "ON LC 74292\n",
      "ON LC 35273\n",
      "ON LC 12971\n"
     ]
    }
   ],
   "source": [
    "# specific indices\n",
    "\n",
    "def create_dmdt_plot_seven(lc_indices, dmdt_data, save_title):\n",
    "    f, axarr = plt.subplots(3, 3, figsize=(8,8))\n",
    "    row = 0\n",
    "    for i, lc_index in enumerate(lc_indices[:len(lc_indices) - 1]):\n",
    "        col = i % 2\n",
    "        if col == 0:\n",
    "            row += 1\n",
    "        \n",
    "        print(\"ON LC \" + str(lc_index))\n",
    "        ar_x = row - 1\n",
    "        ar_y = col\n",
    "        title = \"LC: \" + str(int(lc_index))\n",
    "        axarr[ar_x, ar_y].set_title(title)\n",
    "        \n",
    "        to_show = dmdt_data[int(lc_index)]\n",
    "        \n",
    "        axarr[ar_x, ar_y].imshow(to_show, norm = LogNorm(), origin=\"lower\")\n",
    "        axarr[ar_x, ar_y].set_xticks([])\n",
    "        axarr[ar_x, ar_y].set_xticklabels([])\n",
    "        axarr[ar_x, ar_y].set_yticks([])\n",
    "        axarr[ar_x, ar_y].set_yticklabels([])\n",
    "            \n",
    "\n",
    "#     axarr[2,2].set_visible(True)\n",
    "    lc_index = int(lc_indices[len(lc_indices) - 1])\n",
    "    to_show = dmdt_data[lc_index]\n",
    "    axarr[1, 2].imshow(to_show, norm = LogNorm(), origin=\"lower\")\n",
    "    axarr[1, 2].set_xticks([])\n",
    "    axarr[1, 2].set_xticklabels([])\n",
    "    axarr[1, 2].set_yticks([])\n",
    "    axarr[1, 2].set_yticklabels([])\n",
    "    axarr[1, 2].set_title(\"LC: \" + str(lc_index))\n",
    "    axarr[2, 2].axis('off')\n",
    "    axarr[0, 2].axis('off')\n",
    "    plt.tight_layout()\n",
    "    plt.savefig(save_title, dpi=100)\n",
    "    plt.close()\n",
    "#     plt.show()\n",
    "\n",
    "def create_dmdt_plot_ten(lc_indices, dmdt_data, save_title):\n",
    "    f, axarr = plt.subplots(4, 3, figsize=(8,8))\n",
    "    row = 0\n",
    "    for i, lc_index in enumerate(lc_indices[:len(lc_indices) - 1]):\n",
    "        col = i % 3\n",
    "        if col == 0:\n",
    "            row += 1\n",
    "        \n",
    "        print(\"ON LC \" + str(lc_index))\n",
    "        ar_x = row - 1\n",
    "        ar_y = col\n",
    "        title = \"LC: \" + str(int(lc_index))\n",
    "        axarr[ar_x, ar_y].set_title(title)\n",
    "        \n",
    "        to_show = dmdt_data[int(lc_index)]\n",
    "        \n",
    "        axarr[ar_x, ar_y].imshow(to_show, norm = LogNorm(), origin=\"lower\")\n",
    "        axarr[ar_x, ar_y].set_xticks([])\n",
    "        axarr[ar_x, ar_y].set_xticklabels([])\n",
    "        axarr[ar_x, ar_y].set_yticks([])\n",
    "        axarr[ar_x, ar_y].set_yticklabels([])\n",
    "            \n",
    "\n",
    "#     axarr[2,2].set_visible(True)\n",
    "    lc_index = int(lc_indices[len(lc_indices) - 1])\n",
    "    to_show = dmdt_data[lc_index]\n",
    "    axarr[3, 1].imshow(to_show, norm = LogNorm(), origin=\"lower\")\n",
    "    axarr[3, 1].set_xticks([])\n",
    "    axarr[3, 1].set_xticklabels([])\n",
    "    axarr[3, 1].set_yticks([])\n",
    "    axarr[3, 1].set_yticklabels([])\n",
    "    axarr[3, 1].set_title(\"LC: \" + str(lc_index))\n",
    "    axarr[3, 0].axis('off')\n",
    "    axarr[3, 2].axis('off')\n",
    "    plt.tight_layout()\n",
    "    plt.savefig(save_title, dpi=100)\n",
    "    plt.close()\n",
    "    \n",
    "# create_dmdt_plot_seven(lc_indices, full_data, \"full_outliers_dense/dmdt_plots_dense_specified_indices.ps\")\n",
    "\n",
    "# lc_indices = [71714, 93480, 83709, 133288, 31188, 143272, 18527, 135984, 42399, 44485]\n",
    "lc_indices = [113556, 104988, 90850, 126500, 51929, 5162, 74292, 35273, 12971, 105859]\n",
    "\n",
    "create_dmdt_plot_ten(lc_indices, full_data, \"mar_20_dmdt_plots/dmdt_plots_concat_dense_specified_indices_part_two.ps\")"
   ]
  },
  {
   "cell_type": "code",
   "execution_count": 71,
   "metadata": {},
   "outputs": [],
   "source": [
    "## tabbys star\n",
    "TABBY_STAR_INDEX = 0\n",
    "plt.imshow(full_data[TABBY_STAR_INDEX], norm=LogNorm(), origin=\"Lower\")\n",
    "\n",
    "title = \"Tabby's Star (Dense)\"\n",
    "plt.title(title)\n",
    "plt.xticks(xpositions, xlabels, rotation=\"vertical\")\n",
    "plt.yticks(ypositions, ylabels)\n",
    "plt.tight_layout()\n",
    "plt.savefig(\"new_new_new_final_images/dmdt_images/tabby_dense.ps\", dpi=100)\n",
    "plt.close()"
   ]
  },
  {
   "cell_type": "markdown",
   "metadata": {},
   "source": [
    "### TSNE - sparse image picking"
   ]
  },
  {
   "cell_type": "code",
   "execution_count": 72,
   "metadata": {},
   "outputs": [],
   "source": [
    "# load the scores, and original full data\n",
    "full_data = np.load(\"sparse_light_curve_dmdt_final/full_sparse_light_curve_points_removed_spikes.npy\")\n",
    "\n",
    "DIR_TITLE = \"june_14_images/\"\n",
    "tsne_scores = pd.read_csv(DIR_TITLE + \"tsne_outlier_scores.csv\")\n",
    "umap_scores = pd.read_csv(DIR_TITLE + \"umap_outlier_scores.csv\")"
   ]
  },
  {
   "cell_type": "code",
   "execution_count": 73,
   "metadata": {},
   "outputs": [
    {
     "data": {
      "text/html": [
       "<div>\n",
       "<style scoped>\n",
       "    .dataframe tbody tr th:only-of-type {\n",
       "        vertical-align: middle;\n",
       "    }\n",
       "\n",
       "    .dataframe tbody tr th {\n",
       "        vertical-align: top;\n",
       "    }\n",
       "\n",
       "    .dataframe thead th {\n",
       "        text-align: right;\n",
       "    }\n",
       "</style>\n",
       "<table border=\"1\" class=\"dataframe\">\n",
       "  <thead>\n",
       "    <tr style=\"text-align: right;\">\n",
       "      <th></th>\n",
       "      <th>Unnamed: 0</th>\n",
       "      <th>tsne_outlier_score</th>\n",
       "      <th>light_curve_index</th>\n",
       "    </tr>\n",
       "  </thead>\n",
       "  <tbody>\n",
       "    <tr>\n",
       "      <th>count</th>\n",
       "      <td>2500.00000</td>\n",
       "      <td>2.500000e+03</td>\n",
       "      <td>2500.00000</td>\n",
       "    </tr>\n",
       "    <tr>\n",
       "      <th>mean</th>\n",
       "      <td>1249.50000</td>\n",
       "      <td>1.321212e-07</td>\n",
       "      <td>1249.50000</td>\n",
       "    </tr>\n",
       "    <tr>\n",
       "      <th>std</th>\n",
       "      <td>721.83216</td>\n",
       "      <td>1.000200e+00</td>\n",
       "      <td>721.83216</td>\n",
       "    </tr>\n",
       "    <tr>\n",
       "      <th>min</th>\n",
       "      <td>0.00000</td>\n",
       "      <td>-1.805012e+00</td>\n",
       "      <td>0.00000</td>\n",
       "    </tr>\n",
       "    <tr>\n",
       "      <th>25%</th>\n",
       "      <td>624.75000</td>\n",
       "      <td>-6.782405e-01</td>\n",
       "      <td>624.75000</td>\n",
       "    </tr>\n",
       "    <tr>\n",
       "      <th>50%</th>\n",
       "      <td>1249.50000</td>\n",
       "      <td>-9.048525e-02</td>\n",
       "      <td>1249.50000</td>\n",
       "    </tr>\n",
       "    <tr>\n",
       "      <th>75%</th>\n",
       "      <td>1874.25000</td>\n",
       "      <td>5.400390e-01</td>\n",
       "      <td>1874.25000</td>\n",
       "    </tr>\n",
       "    <tr>\n",
       "      <th>max</th>\n",
       "      <td>2499.00000</td>\n",
       "      <td>7.021760e+00</td>\n",
       "      <td>2499.00000</td>\n",
       "    </tr>\n",
       "  </tbody>\n",
       "</table>\n",
       "</div>"
      ],
      "text/plain": [
       "       Unnamed: 0  tsne_outlier_score  light_curve_index\n",
       "count  2500.00000        2.500000e+03         2500.00000\n",
       "mean   1249.50000        1.321212e-07         1249.50000\n",
       "std     721.83216        1.000200e+00          721.83216\n",
       "min       0.00000       -1.805012e+00            0.00000\n",
       "25%     624.75000       -6.782405e-01          624.75000\n",
       "50%    1249.50000       -9.048525e-02         1249.50000\n",
       "75%    1874.25000        5.400390e-01         1874.25000\n",
       "max    2499.00000        7.021760e+00         2499.00000"
      ]
     },
     "execution_count": 73,
     "metadata": {},
     "output_type": "execute_result"
    }
   ],
   "source": [
    "tsne_scores.describe()"
   ]
  },
  {
   "cell_type": "code",
   "execution_count": 74,
   "metadata": {},
   "outputs": [
    {
     "data": {
      "text/plain": [
       "(array([442., 873., 752., 310.,  84.,  27.,   7.,   2.,   0.,   3.]),\n",
       " array([-1.8050123 , -0.92233502, -0.03965774,  0.84301954,  1.72569682,\n",
       "         2.6083741 ,  3.49105138,  4.37372866,  5.25640594,  6.13908322,\n",
       "         7.0217605 ]),\n",
       " <a list of 10 Patch objects>)"
      ]
     },
     "execution_count": 74,
     "metadata": {},
     "output_type": "execute_result"
    },
    {
     "data": {
      "image/png": "[encoded data removed]",
      "text/plain": [
       "<Figure size 432x288 with 1 Axes>"
      ]
     },
     "metadata": {
      "needs_background": "light"
     },
     "output_type": "display_data"
    }
   ],
   "source": [
    "plt.hist(tsne_scores[\"tsne_outlier_score\"])"
   ]
  },
  {
   "cell_type": "code",
   "execution_count": 75,
   "metadata": {},
   "outputs": [],
   "source": [
    "bins = [-1, 0, 1, 2, 6]\n",
    "\n",
    "lc_indices = []\n",
    "scores = []\n",
    "\n",
    "lc_indices.append(tsne_scores[tsne_scores[\"tsne_outlier_score\"] < bins[0]].iloc[1][\"light_curve_index\"])\n",
    "scores.append(float(tsne_scores[tsne_scores[\"light_curve_index\"] == lc_indices[-1]][\"tsne_outlier_score\"]))\n",
    "\n",
    "for i in range(len(bins) - 1):\n",
    "    temp = tsne_scores[tsne_scores[\"tsne_outlier_score\"] >= bins[i]]\n",
    "    temp = temp[temp[\"tsne_outlier_score\"] <= bins[i+1]]\n",
    "    lc_index = temp.iloc[1][\"light_curve_index\"]\n",
    "    lc_indices.append(lc_index)\n",
    "    scores.append(float(tsne_scores[tsne_scores[\"light_curve_index\"] == lc_index][\"tsne_outlier_score\"]))\n",
    "lc_indices.append(tsne_scores[tsne_scores[\"tsne_outlier_score\"] > bins[len(bins) - 1]].iloc[1][\"light_curve_index\"])\n",
    "scores.append(float(tsne_scores[tsne_scores[\"light_curve_index\"] == lc_indices[-1]][\"tsne_outlier_score\"]))"
   ]
  },
  {
   "cell_type": "code",
   "execution_count": 76,
   "metadata": {},
   "outputs": [
    {
     "name": "stdout",
     "output_type": "stream",
     "text": [
      "[5.0, 9.0, 7.0, 20.0, 3.0, 1317.0]\n",
      "[-1.6493415, -0.49475765, 0.43354923, 1.7025631999999997, 3.327803, 6.757254]\n"
     ]
    }
   ],
   "source": [
    "print(lc_indices)\n",
    "print(scores)"
   ]
  },
  {
   "cell_type": "code",
   "execution_count": 77,
   "metadata": {},
   "outputs": [
    {
     "name": "stdout",
     "output_type": "stream",
     "text": [
      "ON LC 5.0\n",
      "ON LC 9.0\n",
      "ON LC 7.0\n",
      "ON LC 20.0\n",
      "ON LC 3.0\n",
      "ON LC 1317.0\n"
     ]
    }
   ],
   "source": [
    "dmints = [-0.05, -0.02,-0.01, -0.006, -0.005, -0.004, -0.0012, \n",
    "          -0.001, -0.0006, -0.0003, 0,  0.0003, 0.0006, 0.001, 0.0012, 0.003, \n",
    "          0.004, 0.005, 0.006, 0.01, 0.02, 0.05]\n",
    "dtints = [-1.0/145, 1.0/47, 2.0/47, 3.0/47, 4.0/47, 6.0/47, 10.0/47, 15.0/47,\n",
    "          20.0/47, 30.0/47, 40.0/47,   1.0,   1.2,  \n",
    "           1.4,  1.5, 1.7,  2, 2.25,  2.5, 3.0]\n",
    "\n",
    "xpositions = range(len(dtints))\n",
    "ypositions = range(len(dmints))\n",
    "xlabels = ['%.2f' % dt for dt in dtints]\n",
    "ylabels = ['%.2f' % dm for dm in dmints]\n",
    "\n",
    "create_dmdt_plot(lc_indices, full_data, scores, \"new_new_new_final_images/dmdt_images/tsne_sparse.ps\")"
   ]
  },
  {
   "cell_type": "code",
   "execution_count": 78,
   "metadata": {},
   "outputs": [
    {
     "data": {
      "text/html": [
       "<div>\n",
       "<style scoped>\n",
       "    .dataframe tbody tr th:only-of-type {\n",
       "        vertical-align: middle;\n",
       "    }\n",
       "\n",
       "    .dataframe tbody tr th {\n",
       "        vertical-align: top;\n",
       "    }\n",
       "\n",
       "    .dataframe thead th {\n",
       "        text-align: right;\n",
       "    }\n",
       "</style>\n",
       "<table border=\"1\" class=\"dataframe\">\n",
       "  <thead>\n",
       "    <tr style=\"text-align: right;\">\n",
       "      <th></th>\n",
       "      <th>Unnamed: 0</th>\n",
       "      <th>umap_outlier_score</th>\n",
       "      <th>light_curve_index</th>\n",
       "    </tr>\n",
       "  </thead>\n",
       "  <tbody>\n",
       "    <tr>\n",
       "      <th>count</th>\n",
       "      <td>2500.00000</td>\n",
       "      <td>2.500000e+03</td>\n",
       "      <td>2500.00000</td>\n",
       "    </tr>\n",
       "    <tr>\n",
       "      <th>mean</th>\n",
       "      <td>1249.50000</td>\n",
       "      <td>-6.775724e-08</td>\n",
       "      <td>1249.50000</td>\n",
       "    </tr>\n",
       "    <tr>\n",
       "      <th>std</th>\n",
       "      <td>721.83216</td>\n",
       "      <td>1.000200e+00</td>\n",
       "      <td>721.83216</td>\n",
       "    </tr>\n",
       "    <tr>\n",
       "      <th>min</th>\n",
       "      <td>0.00000</td>\n",
       "      <td>-1.462530e+00</td>\n",
       "      <td>0.00000</td>\n",
       "    </tr>\n",
       "    <tr>\n",
       "      <th>25%</th>\n",
       "      <td>624.75000</td>\n",
       "      <td>-7.560087e-01</td>\n",
       "      <td>624.75000</td>\n",
       "    </tr>\n",
       "    <tr>\n",
       "      <th>50%</th>\n",
       "      <td>1249.50000</td>\n",
       "      <td>-2.193230e-01</td>\n",
       "      <td>1249.50000</td>\n",
       "    </tr>\n",
       "    <tr>\n",
       "      <th>75%</th>\n",
       "      <td>1874.25000</td>\n",
       "      <td>5.422159e-01</td>\n",
       "      <td>1874.25000</td>\n",
       "    </tr>\n",
       "    <tr>\n",
       "      <th>max</th>\n",
       "      <td>2499.00000</td>\n",
       "      <td>5.427856e+00</td>\n",
       "      <td>2499.00000</td>\n",
       "    </tr>\n",
       "  </tbody>\n",
       "</table>\n",
       "</div>"
      ],
      "text/plain": [
       "       Unnamed: 0  umap_outlier_score  light_curve_index\n",
       "count  2500.00000        2.500000e+03         2500.00000\n",
       "mean   1249.50000       -6.775724e-08         1249.50000\n",
       "std     721.83216        1.000200e+00          721.83216\n",
       "min       0.00000       -1.462530e+00            0.00000\n",
       "25%     624.75000       -7.560087e-01          624.75000\n",
       "50%    1249.50000       -2.193230e-01         1249.50000\n",
       "75%    1874.25000        5.422159e-01         1874.25000\n",
       "max    2499.00000        5.427856e+00         2499.00000"
      ]
     },
     "execution_count": 78,
     "metadata": {},
     "output_type": "execute_result"
    }
   ],
   "source": [
    "umap_scores.describe()"
   ]
  },
  {
   "cell_type": "code",
   "execution_count": 79,
   "metadata": {},
   "outputs": [
    {
     "data": {
      "text/plain": [
       "(array([599., 776., 537., 310., 162.,  67.,  28.,  16.,   4.,   1.]),\n",
       " array([-1.4625301 , -0.77349149, -0.08445288,  0.60458573,  1.29362434,\n",
       "         1.98266295,  2.67170156,  3.36074017,  4.04977878,  4.73881739,\n",
       "         5.427856  ]),\n",
       " <a list of 10 Patch objects>)"
      ]
     },
     "execution_count": 79,
     "metadata": {},
     "output_type": "execute_result"
    },
    {
     "data": {
      "image/png": "[encoded data removed]",
      "text/plain": [
       "<Figure size 432x288 with 1 Axes>"
      ]
     },
     "metadata": {
      "needs_background": "light"
     },
     "output_type": "display_data"
    }
   ],
   "source": [
    "plt.hist(umap_scores[\"umap_outlier_score\"])"
   ]
  },
  {
   "cell_type": "code",
   "execution_count": 80,
   "metadata": {},
   "outputs": [],
   "source": [
    "bins = [-1, 0, 1, 2, 4]\n",
    "lc_indices = []\n",
    "scores = []\n",
    "\n",
    "lc_indices.append(umap_scores[umap_scores[\"umap_outlier_score\"] < bins[0]].iloc[1][\"light_curve_index\"])\n",
    "scores.append(float(umap_scores[umap_scores[\"light_curve_index\"] == lc_indices[-1]][\"umap_outlier_score\"]))\n",
    "\n",
    "for i in range(len(bins) - 1):\n",
    "    temp = umap_scores[umap_scores[\"umap_outlier_score\"] >= bins[i]]\n",
    "    temp = temp[temp[\"umap_outlier_score\"] <= bins[i+1]]\n",
    "    lc_index = temp.iloc[1][\"light_curve_index\"]\n",
    "    lc_indices.append(lc_index)\n",
    "    scores.append(float(umap_scores[umap_scores[\"light_curve_index\"] == lc_index][\"umap_outlier_score\"]))\n",
    "lc_indices.append(umap_scores[umap_scores[\"umap_outlier_score\"] > bins[len(bins) - 1]].iloc[1][\"light_curve_index\"])\n",
    "scores.append(float(umap_scores[umap_scores[\"light_curve_index\"] == lc_indices[-1]][\"umap_outlier_score\"]))\n",
    "\n"
   ]
  },
  {
   "cell_type": "code",
   "execution_count": 81,
   "metadata": {},
   "outputs": [
    {
     "name": "stdout",
     "output_type": "stream",
     "text": [
      "[17.0, 2.0, 3.0, 42.0, 20.0, 355.0]\n",
      "[-1.3849847, -0.16631173, 0.33934692, 1.059859, 3.512322, 4.112435]\n"
     ]
    }
   ],
   "source": [
    "print(lc_indices)\n",
    "print(scores)"
   ]
  },
  {
   "cell_type": "code",
   "execution_count": null,
   "metadata": {},
   "outputs": [],
   "source": []
  },
  {
   "cell_type": "code",
   "execution_count": 82,
   "metadata": {},
   "outputs": [
    {
     "name": "stdout",
     "output_type": "stream",
     "text": [
      "ON LC 17.0\n",
      "ON LC 2.0\n",
      "ON LC 3.0\n",
      "ON LC 42.0\n",
      "ON LC 20.0\n",
      "ON LC 355.0\n"
     ]
    }
   ],
   "source": [
    "create_dmdt_plot(lc_indices, full_data, scores, \"new_new_new_final_images/dmdt_images/umap_sparse.ps\")"
   ]
  },
  {
   "cell_type": "code",
   "execution_count": 83,
   "metadata": {},
   "outputs": [],
   "source": [
    "## tabbys star\n",
    "TABBY_STAR_INDEX = 0\n",
    "plt.imshow(full_data[TABBY_STAR_INDEX], norm=LogNorm(), origin=\"Lower\")\n",
    "\n",
    "title = \"Tabby's Star (Sparse)\"\n",
    "plt.title(title)\n",
    "plt.xticks(xpositions, xlabels, rotation=\"vertical\")\n",
    "plt.yticks(ypositions, ylabels)\n",
    "plt.tight_layout()\n",
    "plt.savefig(\"new_new_new_final_images/dmdt_images/tabby_sparse.ps\", dpi=100)\n",
    "plt.close()"
   ]
  },
  {
   "cell_type": "code",
   "execution_count": null,
   "metadata": {},
   "outputs": [],
   "source": []
  }
 ],
 "metadata": {
  "kernelspec": {
   "display_name": "Python 3",
   "language": "python",
   "name": "python3"
  },
  "language_info": {
   "codemirror_mode": {
    "name": "ipython",
    "version": 3
   },
   "file_extension": ".py",
   "mimetype": "text/x-python",
   "name": "python",
   "nbconvert_exporter": "python",
   "pygments_lexer": "ipython3",
   "version": "3.6.5"
  }
 },
 "nbformat": 4,
 "nbformat_minor": 2
}
