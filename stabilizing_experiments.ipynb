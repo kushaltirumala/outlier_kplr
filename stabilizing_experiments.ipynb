{
 "cells": [
  {
   "cell_type": "code",
   "execution_count": 2,
   "metadata": {
    "collapsed": true
   },
   "outputs": [],
   "source": [
    "import numpy as np\n",
    "import matplotlib.pyplot as plt\n",
    "from matplotlib.colors import LogNorm\n",
    "import os\n",
    "import mpld3\n",
    "import umap\n",
    "import sklearn\n",
    "from sklearn.manifold import TSNE\n",
    "\n",
    "%matplotlib inline \n",
    "mpld3.enable_notebook()\n",
    "\n",
    "def load_data(directory):\n",
    "    data = []\n",
    "    for file in os.listdir(directory):\n",
    "        data.append(np.load(directory+\"/\"+file))\n",
    "    data = np.array(data)\n",
    "    return data\n",
    "\n",
    "kdata = np.load('KeplerSampleFullQ.npy',encoding='bytes')\n",
    "\n",
    "\n",
    "weird_points = [1781, 536, 1145, 533, 1720, 1328, 1156, 722, 904, 360, 124, 842, 1859, 2496, 392, 1038, 947, 2322, 156, 2138, 193, 2140, 572, 1414]\n",
    "def plot_lc(emedded_mat, title):\n",
    "    x = emedded_mat[:, 0]\n",
    "    y = emedded_mat[:, 1]\n",
    "    fig, ax = plt.subplots(subplot_kw=dict(axisbg='#EEEEEE'))\n",
    "    ax.set_xlabel('feature 1')\n",
    "    ax.set_ylabel('feature 2')\n",
    "    N = len(x)\n",
    "#     c = np.random.random(size=N)\n",
    "#     print c\n",
    "    hehe = []\n",
    "    s = []\n",
    "    for i in range(N):\n",
    "        if i in weird_points:\n",
    "            hehe.append(2)\n",
    "            s.append(30)\n",
    "        else:\n",
    "            hehe.append(0)\n",
    "            s.append(1)\n",
    "        \n",
    "    hehe = np.array(hehe)\n",
    "    s = np.array(s)\n",
    "    scatter = ax.scatter(x,\n",
    "                         y,\n",
    "                         c=hehe,\n",
    "                         s=s,\n",
    "                         alpha=0.3)\n",
    "    ax.grid(color='white', linestyle='solid')\n",
    "\n",
    "    ax.set_title(title, size=15)\n",
    "\n",
    "    labels = ['point {0}'.format(i + 1) for i in range(N)]\n",
    "    tooltip = mpld3.plugins.PointLabelTooltip(scatter, labels=labels)\n",
    "    mpld3.plugins.connect(fig, tooltip)"
   ]
  },
  {
   "cell_type": "code",
   "execution_count": 4,
   "metadata": {
    "collapsed": true
   },
   "outputs": [],
   "source": [
    "final_data = load_data(\"true_points\")\n",
    "reshaped_final = final_data.reshape(2500, 784)"
   ]
  },
  {
   "cell_type": "code",
   "execution_count": 11,
   "metadata": {
    "collapsed": true
   },
   "outputs": [],
   "source": [
    "\n",
    "\n",
    "def run_trial_tsne(data, p, lr, ee):\n",
    "    x_embedded_tsne = TSNE(n_components=2, perplexity=p, learning_rate=lr, early_exaggeration=ee).fit_transform(data)\n",
    "    print (x_embedded_tsne.shape)\n",
    "    return x_embedded_tsne\n",
    "#     x = x_embedded_tsne[:, 0]\n",
    "#     y = x_embedded_tsne[:, 1]\n",
    "\n",
    "def run_trial_umap(data, n, m):    \n",
    "    x_embedded_umap_first = umap.UMAP(n_neighbors=n, min_dist=m).fit_transform(data)"
   ]
  },
  {
   "cell_type": "code",
   "execution_count": 12,
   "metadata": {},
   "outputs": [
    {
     "name": "stdout",
     "output_type": "stream",
     "text": [
      "(2500, 2)\n"
     ]
    },
    {
     "data": {
      "text/plain": [
       "array([[-33.079544  ,  24.342876  ],\n",
       "       [ 16.474266  ,  19.493225  ],\n",
       "       [ 23.803001  ,  -0.89731807],\n",
       "       ...,\n",
       "       [-36.451847  ,  -4.00355   ],\n",
       "       [-30.379774  ,   0.8531087 ],\n",
       "       [  5.6101694 ,  -9.546196  ]], dtype=float32)"
      ]
     },
     "execution_count": 12,
     "metadata": {},
     "output_type": "execute_result"
    }
   ],
   "source": [
    "# run tsne trials\n",
    "run_trial_tsne(reshaped_final, 40, 600, 1000)"
   ]
  },
  {
   "cell_type": "code",
   "execution_count": 14,
   "metadata": {},
   "outputs": [
    {
     "name": "stdout",
     "output_type": "stream",
     "text": [
      "10\n",
      "(2500, 2)\n",
      "(2500, 2)\n"
     ]
    }
   ],
   "source": [
    "lr = 600\n",
    "ee = 1000\n",
    "\n",
    "for p in [10]:\n",
    "    print (p)\n",
    "    x_embedded_tsne = run_trial_tsne(reshaped_final, p, 600, 1000)\n",
    "    print x_embedded_tsne.shape\n",
    "    plot_lc(x_embedded_tsne, \"perp= \" + str(p) + \", lr= \" +str(lr) + \", ee= \" + str(ee))\n",
    "    mpld3.display()"
   ]
  },
  {
   "cell_type": "code",
   "execution_count": null,
   "metadata": {
    "collapsed": true
   },
   "outputs": [],
   "source": [
    "p = 5\n",
    "lr = 10\n",
    "ee = 12\n",
    "x_embedded_tsne = run_trial_tsne(reshaped_final, p, lr, ee)\n",
    "plot_lc(x_embedded_tsne, \"perp= \" + str(p) + \", lr= \" +str(lr) + \", ee= \" + str(ee))"
   ]
  },
  {
   "cell_type": "code",
   "execution_count": 28,
   "metadata": {},
   "outputs": [
    {
     "name": "stdout",
     "output_type": "stream",
     "text": [
      "perp= 5, lr= 100, ee= 12\n",
      "(2500, 2)\n",
      "perp= 5, lr= 100, ee= 100\n",
      "(2500, 2)\n",
      "perp= 5, lr= 100, ee= 500\n",
      "(2500, 2)\n",
      "perp= 5, lr= 500, ee= 12\n",
      "(2500, 2)\n",
      "perp= 5, lr= 500, ee= 100\n",
      "(2500, 2)\n",
      "perp= 5, lr= 500, ee= 500\n",
      "(2500, 2)\n",
      "perp= 5, lr= 1000, ee= 12\n",
      "(2500, 2)\n",
      "perp= 5, lr= 1000, ee= 100\n",
      "(2500, 2)\n",
      "perp= 5, lr= 1000, ee= 500\n",
      "(2500, 2)\n",
      "perp= 27, lr= 100, ee= 12\n",
      "(2500, 2)\n",
      "perp= 27, lr= 100, ee= 100\n",
      "(2500, 2)\n",
      "perp= 27, lr= 100, ee= 500\n",
      "(2500, 2)\n",
      "perp= 27, lr= 500, ee= 12\n",
      "(2500, 2)\n",
      "perp= 27, lr= 500, ee= 100\n",
      "(2500, 2)\n",
      "perp= 27, lr= 500, ee= 500\n",
      "(2500, 2)\n",
      "perp= 27, lr= 1000, ee= 12\n",
      "(2500, 2)\n",
      "perp= 27, lr= 1000, ee= 100\n",
      "(2500, 2)\n",
      "perp= 27, lr= 1000, ee= 500\n",
      "(2500, 2)\n",
      "perp= 50, lr= 100, ee= 12\n",
      "(2500, 2)\n",
      "perp= 50, lr= 100, ee= 100\n",
      "(2500, 2)\n",
      "perp= 50, lr= 100, ee= 500\n",
      "(2500, 2)\n",
      "perp= 50, lr= 500, ee= 12\n",
      "(2500, 2)\n",
      "perp= 50, lr= 500, ee= 100\n",
      "(2500, 2)\n",
      "perp= 50, lr= 500, ee= 500\n",
      "(2500, 2)\n",
      "perp= 50, lr= 1000, ee= 12\n",
      "(2500, 2)\n",
      "perp= 50, lr= 1000, ee= 100\n",
      "(2500, 2)\n",
      "perp= 50, lr= 1000, ee= 500\n",
      "(2500, 2)\n"
     ]
    },
    {
     "name": "stderr",
     "output_type": "stream",
     "text": [
      "IOPub data rate exceeded.\n",
      "The notebook server will temporarily stop sending output\n",
      "to the client in order to avoid crashing it.\n",
      "To change this limit, set the config variable\n",
      "`--NotebookApp.iopub_data_rate_limit`.\n"
     ]
    }
   ],
   "source": [
    "for p in [5, 27, 50]:\n",
    "    for lr in [100, 500, 1000]:\n",
    "        for ee in [12, 100, 500]:\n",
    "            print \"perp= \" + str(p) + \", lr= \" +str(lr) + \", ee= \" + str(ee)\n",
    "            x_embedded_tsne = run_trial_tsne(reshaped_final, p, lr, ee)\n",
    "            x = x_embedded_tsne[:,0]\n",
    "            y = x_embedded_tsne[:, 1]\n",
    "            colors = ['b' if i not in weird_points else 'r' for i, _ in enumerate(reshaped_final)]\n",
    "            plt.title(\"perp= \" + str(p) + \", lr= \" +str(lr) + \", ee= \" + str(ee))\n",
    "            plt.xlabel(\"feature 1\")\n",
    "            plt.ylabel(\"feature 2\")\n",
    "            plt.scatter(x, y, c=colors, s=7)\n",
    "            plt.savefig(\"perp= \" + str(p) + \", lr= \" +str(lr) + \", ee= \" + str(ee))"
   ]
  },
  {
   "cell_type": "code",
   "execution_count": null,
   "metadata": {
    "collapsed": true
   },
   "outputs": [],
   "source": []
  }
 ],
 "metadata": {
  "kernelspec": {
   "display_name": "Python 2",
   "language": "python",
   "name": "python2"
  },
  "language_info": {
   "codemirror_mode": {
    "name": "ipython",
    "version": 2
   },
   "file_extension": ".py",
   "mimetype": "text/x-python",
   "name": "python",
   "nbconvert_exporter": "python",
   "pygments_lexer": "ipython2",
   "version": "2.7.15"
  }
 },
 "nbformat": 4,
 "nbformat_minor": 2
}
