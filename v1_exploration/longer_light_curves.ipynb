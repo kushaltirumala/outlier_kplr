{
 "cells": [
  {
   "cell_type": "code",
   "execution_count": 1,
   "metadata": {
    "collapsed": true
   },
   "outputs": [],
   "source": [
    "import numpy as np\n",
    "import matplotlib.pyplot as plt\n",
    "import umap\n",
    "import matplotlib.pyplot as plt\n",
    "def dmdtim(mjd,mag,ldmints,ldtints):\n",
    "    dmdt=np.zeros(shape=(ldmints,ldtints))\n",
    "    maxval = 255\n",
    "    maxpts = len(mjd)*(len(mjd)-1)/2\n",
    "    dmjd = []\n",
    "    dmag = []\n",
    "\n",
    "    for i in range(len(mjd)):\n",
    "        for j in range(i+1,len(mjd)):\n",
    "            dmjd.append(mjd[j]-mjd[i])\n",
    "            dmag.append(mag[j]-mag[i])\n",
    "\n",
    "    (sdmjd,sdmag) = zip(*sorted(zip(dmjd,dmag)))\n",
    "\n",
    "    minmjdbin = 0\n",
    "    for i in range(len(sdmjd)):\n",
    "        mjdbin = minmjdbin\n",
    "        for k in range(minmjdbin,ldtints):\n",
    "            if sdmjd[i] > dtints[k]:\n",
    "                mjdbin = k\n",
    "        minmjdbin = mjdbin\n",
    "        magbin = 0\n",
    "        for k in range(ldmints):\n",
    "            if sdmag[i] > dmints[k]:\n",
    "                magbin = k\n",
    "        dmdt[magbin,mjdbin] += 1\n",
    "\n",
    "    return (maxval*dmdt/maxpts), dmjd, dmag"
   ]
  },
  {
   "cell_type": "code",
   "execution_count": 29,
   "metadata": {},
   "outputs": [
    {
     "data": {
      "text/plain": [
       "28"
      ]
     },
     "execution_count": 29,
     "metadata": {},
     "output_type": "execute_result"
    }
   ],
   "source": [
    "# dmints = [-0.01, -0.006, -0.005, -0.004, -0.0012, -0.001, -0.001, -0.0007, -0.0006, -0.0005, -0.0004, -0.0003, \n",
    "#           -0.0002, -0.00015, -0.0001, -0.00005, 0, 0.00005, 0.0001, 0.0002, 0.0003, 0.001, 0.0012, 0.003, 0.004, \n",
    "#           0.005, 0.006, 0.01]\n",
    "# dtints = [1.0/145, 20.0/145, 30.0/145, 50.0/145, 60.0/145, 80.0/145, 90.0/145, \n",
    "#           100.0/145, 120.0/145, 135.0/145, 140.0/145, 1.0, 1.05, 1.1, 1.2, 1.25, 1.3, 1.35, 1.4, 1.45, 1.5,\n",
    "#           1.7, 1.75, 2,2.25, 2.3, 2.5,3.0]\n",
    "# dmints = [-0.01, -0.006, -0.005, -0.004, -0.0012, -0.001, -0.001, -0.0007, -0.0006, -0.0005, -0.0004, -0.0003, \n",
    "#           -0.0002, -0.00015, -0.0001, -0.00005, 0, 0.00005, 0.0001, 0.0002, 0.0003, 0.001, 0.0012, 0.003, 0.004, \n",
    "#           0.005, 0.006, 0.01]\n",
    "# dtints = [1.0/145, 20.0/145, 30.0/145, 50.0/145, 60.0/145, 80.0/145, 90.0/145, \n",
    "#           100.0/145, 120.0/145, 135.0/145, 140.0/145, 0.2, 0.5, 0.9, 1.0, 2.0, 3.0, \n",
    "#           4.0, 5.0, 8.0,10.0, 12.0, 13.5, 15.0, 17.0, 17.5, 19.0,23.0]\n",
    "# dmints = [-0.01, -0.006, -0.005, -0.004, -0.0012, -0.001, -0.001, -0.0007, -0.0006, -0.0005, -0.0004, -0.0003, \n",
    "#           -0.0002, -0.00015, -0.0001, -0.00005, 0, 0.00005, 0.0001, 0.0002, 0.0003, 0.001, 0.0012, 0.003, 0.004, \n",
    "#           0.005, 0.006, 0.01]\n",
    "# dtints = [1.0/145, 140.0/145, 0.2, 0.5, 0.9, 1.0, 2.0, 3.0, \n",
    "#           4.0, 5.0, 8.0,10.0, 12.0, 13.5, 15.0, 17.0, 17.5, 19.0, \n",
    "#           19.1, 19.2, 20.0, 21.0, 22.0, 22.5, 22.7, 23.0, 28.0, 33.0]\n",
    "dmints = [-0.01, -0.006, -0.005, -0.004, -0.0012, -0.001, -0.001, -0.0007, -0.0006, -0.0005, -0.0004, -0.0003, \n",
    "          -0.0002, -0.00015, -0.0001, -0.00005, 0, 0.00005, 0.0001, 0.0002, 0.0003, 0.001, 0.0012, 0.003, 0.004, \n",
    "          0.005, 0.006, 0.01]\n",
    "dtints = [1.0/145, 140.0/145, 0.2, 0.5, 0.9, 1.0, 2.0, 3.0, \n",
    "          4.0, 5.0, 8.0,10.0, 12.0, 13.5, 15.0, 17.0, 17.5, 19.0, \n",
    "          19.1, 19.2, 20.0, 21.0, 22.0, 22.5, 22.7, 23.0, 28.0, 33.0]\n",
    "len(dtints)"
   ]
  },
  {
   "cell_type": "code",
   "execution_count": 30,
   "metadata": {},
   "outputs": [
    {
     "data": {
      "text/plain": [
       "(2500, 3)"
      ]
     },
     "execution_count": 30,
     "metadata": {},
     "output_type": "execute_result"
    }
   ],
   "source": [
    "raw_data = np.load(\"KeplerSampleFullQ.npy\")\n",
    "raw_data.shape"
   ]
  },
  {
   "cell_type": "code",
   "execution_count": 31,
   "metadata": {
    "collapsed": true
   },
   "outputs": [],
   "source": [
    "normalized_x = []\n",
    "normalized_y = []\n",
    "for i, _ in enumerate(raw_data):\n",
    "    if len(raw_data[i][1]) == 3534:\n",
    "        normalized_x.append(raw_data[i][0])\n",
    "        normalized_y.append(raw_data[i][1])\n",
    "    \n",
    "normalized_x = np.array(normalized_x)\n",
    "normalized_y = np.array(normalized_y)"
   ]
  },
  {
   "cell_type": "code",
   "execution_count": 32,
   "metadata": {},
   "outputs": [],
   "source": [
    "first_x_points = normalized_x[:, :1000]\n",
    "first_y_points = normalized_y[:, :1000]\n",
    "test = dmdtim(first_x_points[0], first_y_points[0], 28, 28)"
   ]
  },
  {
   "cell_type": "code",
   "execution_count": 33,
   "metadata": {},
   "outputs": [
    {
     "data": {
      "image/png": "[encoded data removed]",
      "text/plain": [
       "<matplotlib.figure.Figure at 0x1a0919f810>"
      ]
     },
     "metadata": {},
     "output_type": "display_data"
    }
   ],
   "source": [
    "x,y,z = test\n",
    "plt.imshow(x)\n",
    "plt.show()"
   ]
  },
  {
   "cell_type": "code",
   "execution_count": 16,
   "metadata": {},
   "outputs": [
    {
     "data": {
      "text/plain": [
       "(3534,)"
      ]
     },
     "execution_count": 16,
     "metadata": {},
     "output_type": "execute_result"
    }
   ],
   "source": [
    "normalized_x[0].shape"
   ]
  },
  {
   "cell_type": "code",
   "execution_count": null,
   "metadata": {
    "collapsed": true
   },
   "outputs": [],
   "source": []
  }
 ],
 "metadata": {
  "kernelspec": {
   "display_name": "Python 2",
   "language": "python",
   "name": "python2"
  },
  "language_info": {
   "codemirror_mode": {
    "name": "ipython",
    "version": 2
   },
   "file_extension": ".py",
   "mimetype": "text/x-python",
   "name": "python",
   "nbconvert_exporter": "python",
   "pygments_lexer": "ipython2",
   "version": "2.7.15"
  }
 },
 "nbformat": 4,
 "nbformat_minor": 2
}
